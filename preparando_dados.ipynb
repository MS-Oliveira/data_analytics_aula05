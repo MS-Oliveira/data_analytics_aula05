{
  "nbformat": 4,
  "nbformat_minor": 0,
  "metadata": {
    "colab": {
      "name": "preparando_dados.ipynb",
      "provenance": [],
      "collapsed_sections": [],
      "include_colab_link": true
    },
    "environment": {
      "name": "tf2-gpu.2-4.mnightly-2021-02-12-debian-10-test",
      "type": "gcloud",
      "uri": "gcr.io/deeplearning-platform-release/tf2-gpu.2-4:mnightly-2021-02-12-debian-10-test"
    },
    "kernelspec": {
      "display_name": "Python 3",
      "language": "python",
      "name": "python3"
    },
    "language_info": {
      "codemirror_mode": {
        "name": "ipython",
        "version": 3
      },
      "file_extension": ".py",
      "mimetype": "text/x-python",
      "name": "python",
      "nbconvert_exporter": "python",
      "pygments_lexer": "ipython3",
      "version": "3.7.9"
    }
  },
  "cells": [
    {
      "cell_type": "markdown",
      "metadata": {
        "id": "view-in-github",
        "colab_type": "text"
      },
      "source": [
        "<a href=\"https://colab.research.google.com/github/MS-Oliveira/data_analytics_aula05/blob/main/preparando_dados.ipynb\" target=\"_parent\"><img src=\"https://colab.research.google.com/assets/colab-badge.svg\" alt=\"Open In Colab\"/></a>"
      ]
    },
    {
      "cell_type": "markdown",
      "metadata": {
        "id": "IK-ZZWqO999C"
      },
      "source": [
        "Fonte: traduzido e adaptado de https://github.com/GoogleCloudPlatform/training-data-analyst"
      ]
    },
    {
      "cell_type": "markdown",
      "metadata": {
        "id": "rNdWfPXCjTjY"
      },
      "source": [
        "# Entendendo, explorando e preparando dados\n",
        "\n",
        "**Objetivos**\n",
        "\n",
        "\n",
        "1. Ver alguns métodos para resolver valores ausentes e aplicar um deles.\n",
        "2. Converter uma *feature* para o tipo de dado correto.\n",
        "3. Renomear uma coluna de *feature* e remover um valor de uma coluna de *feature* que não faz parte da análise.\n",
        "4. Converter a feature *meanprice* para uma variável categórica.\n",
        "5. Criar *features* one-hot encoding (para dados categóricos).\n",
        "\n",
        "\n",
        "## Introdução \n",
        "\n",
        "Modelos de *machine learning* só podem consumir valores numéricos.\n",
        "\n",
        "Dados são ditos \"sujos\" ou \"não limpos\" se existem valores de atributos ausentes, contém ruídos ou outliers, tem duplicatas, dados errados e formato não adequado.\n",
        "\n",
        "Esse notebook apresenta e resolve a maioria dos problemas de dados não limpos. Repare que problemas diferentes podem necessitar de métodos diferentes."
      ]
    },
    {
      "cell_type": "markdown",
      "metadata": {
        "id": "t9o8HJBY9eDG"
      },
      "source": [
        "### Importação de bibliotecas"
      ]
    },
    {
      "cell_type": "code",
      "metadata": {
        "id": "c95Lt2LI9eDH"
      },
      "source": [
        "import pandas as pd\n",
        "from datetime import datetime\n",
        "import matplotlib.pyplot as plt\n",
        "import seaborn as sns"
      ],
      "execution_count": 1,
      "outputs": []
    },
    {
      "cell_type": "markdown",
      "metadata": {
        "id": "vTwV0EO29eDI"
      },
      "source": [
        "### Exploração dos dados"
      ]
    },
    {
      "cell_type": "markdown",
      "metadata": {
        "id": "3GU9wAQM9eDJ"
      },
      "source": [
        "Esse dataset é baseado sobre o relatório \n",
        "[Vehicle Fuel Type Count by Zip Code](https://data.ca.gov/dataset/vehicle-fuel-type-count-by-zip-code). Foi modificado pelo curso do Google para tornar os dados não limpos para uma representação sintética para propósitos de aprendizagem.\n"
      ]
    },
    {
      "cell_type": "markdown",
      "metadata": {
        "id": "lM6-n6xntv3t"
      },
      "source": [
        "Usar o método read_csv do pandas e verificar as primeiras 5 linhas e as últimas 5 linhas."
      ]
    },
    {
      "cell_type": "code",
      "metadata": {
        "id": "REZ57BXCLdfG"
      },
      "source": [
        "# Fazer a carga do csv\n",
        "df = pd.read_csv('untidy_vehicle_data_2.csv')"
      ],
      "execution_count": 2,
      "outputs": []
    },
    {
      "cell_type": "code",
      "metadata": {
        "colab": {
          "base_uri": "https://localhost:8080/",
          "height": 204
        },
        "id": "gXZgbCTTAcwr",
        "outputId": "4acd44b3-111c-4281-8d6d-89b6b06d093e"
      },
      "source": [
        "# Ver as 5 primeiras linhas\r\n",
        "df.head()"
      ],
      "execution_count": 3,
      "outputs": [
        {
          "output_type": "execute_result",
          "data": {
            "text/html": [
              "<div>\n",
              "<style scoped>\n",
              "    .dataframe tbody tr th:only-of-type {\n",
              "        vertical-align: middle;\n",
              "    }\n",
              "\n",
              "    .dataframe tbody tr th {\n",
              "        vertical-align: top;\n",
              "    }\n",
              "\n",
              "    .dataframe thead th {\n",
              "        text-align: right;\n",
              "    }\n",
              "</style>\n",
              "<table border=\"1\" class=\"dataframe\">\n",
              "  <thead>\n",
              "    <tr style=\"text-align: right;\">\n",
              "      <th></th>\n",
              "      <th>Date</th>\n",
              "      <th>Zip Code</th>\n",
              "      <th>Model Year</th>\n",
              "      <th>Fuel</th>\n",
              "      <th>Make</th>\n",
              "      <th>Light_Duty</th>\n",
              "      <th>Vehicles</th>\n",
              "      <th>meanprice</th>\n",
              "    </tr>\n",
              "  </thead>\n",
              "  <tbody>\n",
              "    <tr>\n",
              "      <th>0</th>\n",
              "      <td>10/1/2018</td>\n",
              "      <td>90000</td>\n",
              "      <td>2006</td>\n",
              "      <td>Gasoline</td>\n",
              "      <td>OTHER/UNK</td>\n",
              "      <td>NaN</td>\n",
              "      <td>1.0</td>\n",
              "      <td>40726.47</td>\n",
              "    </tr>\n",
              "    <tr>\n",
              "      <th>1</th>\n",
              "      <td>10/1/2018</td>\n",
              "      <td>NaN</td>\n",
              "      <td>2014</td>\n",
              "      <td>Gasoline</td>\n",
              "      <td>NaN</td>\n",
              "      <td>Yes</td>\n",
              "      <td>1.0</td>\n",
              "      <td>14600.61</td>\n",
              "    </tr>\n",
              "    <tr>\n",
              "      <th>2</th>\n",
              "      <td>NaN</td>\n",
              "      <td>90000</td>\n",
              "      <td>NaN</td>\n",
              "      <td>Gasoline</td>\n",
              "      <td>OTHER/UNK</td>\n",
              "      <td>Yes</td>\n",
              "      <td>NaN</td>\n",
              "      <td>10665.31</td>\n",
              "    </tr>\n",
              "    <tr>\n",
              "      <th>3</th>\n",
              "      <td>10/1/2018</td>\n",
              "      <td>90000</td>\n",
              "      <td>2017</td>\n",
              "      <td>Gasoline</td>\n",
              "      <td>OTHER/UNK</td>\n",
              "      <td>Yes</td>\n",
              "      <td>1.0</td>\n",
              "      <td>31920.35</td>\n",
              "    </tr>\n",
              "    <tr>\n",
              "      <th>4</th>\n",
              "      <td>10/1/2018</td>\n",
              "      <td>90000</td>\n",
              "      <td>&lt;2006</td>\n",
              "      <td>Diesel and Diesel Hybrid</td>\n",
              "      <td>OTHER/UNK</td>\n",
              "      <td>No</td>\n",
              "      <td>55.0</td>\n",
              "      <td>27268.07</td>\n",
              "    </tr>\n",
              "  </tbody>\n",
              "</table>\n",
              "</div>"
            ],
            "text/plain": [
              "        Date Zip Code Model Year  ... Light_Duty Vehicles meanprice\n",
              "0  10/1/2018    90000       2006  ...        NaN      1.0  40726.47\n",
              "1  10/1/2018      NaN       2014  ...        Yes      1.0  14600.61\n",
              "2        NaN    90000        NaN  ...        Yes      NaN  10665.31\n",
              "3  10/1/2018    90000       2017  ...        Yes      1.0  31920.35\n",
              "4  10/1/2018    90000      <2006  ...         No     55.0  27268.07\n",
              "\n",
              "[5 rows x 8 columns]"
            ]
          },
          "metadata": {
            "tags": []
          },
          "execution_count": 3
        }
      ]
    },
    {
      "cell_type": "code",
      "metadata": {
        "colab": {
          "base_uri": "https://localhost:8080/",
          "height": 204
        },
        "id": "to7Q0O2jAe8H",
        "outputId": "0a954244-472d-4dfd-b47f-26fcd1ec24a3"
      },
      "source": [
        "# Ver as últimas 5 linhas\r\n",
        "df.tail()"
      ],
      "execution_count": 4,
      "outputs": [
        {
          "output_type": "execute_result",
          "data": {
            "text/html": [
              "<div>\n",
              "<style scoped>\n",
              "    .dataframe tbody tr th:only-of-type {\n",
              "        vertical-align: middle;\n",
              "    }\n",
              "\n",
              "    .dataframe tbody tr th {\n",
              "        vertical-align: top;\n",
              "    }\n",
              "\n",
              "    .dataframe thead th {\n",
              "        text-align: right;\n",
              "    }\n",
              "</style>\n",
              "<table border=\"1\" class=\"dataframe\">\n",
              "  <thead>\n",
              "    <tr style=\"text-align: right;\">\n",
              "      <th></th>\n",
              "      <th>Date</th>\n",
              "      <th>Zip Code</th>\n",
              "      <th>Model Year</th>\n",
              "      <th>Fuel</th>\n",
              "      <th>Make</th>\n",
              "      <th>Light_Duty</th>\n",
              "      <th>Vehicles</th>\n",
              "      <th>meanprice</th>\n",
              "    </tr>\n",
              "  </thead>\n",
              "  <tbody>\n",
              "    <tr>\n",
              "      <th>994</th>\n",
              "      <td>6/7/2019</td>\n",
              "      <td>90003</td>\n",
              "      <td>2012</td>\n",
              "      <td>Gasoline</td>\n",
              "      <td>Type_R</td>\n",
              "      <td>Yes</td>\n",
              "      <td>26.0</td>\n",
              "      <td>29740.30</td>\n",
              "    </tr>\n",
              "    <tr>\n",
              "      <th>995</th>\n",
              "      <td>6/8/2019</td>\n",
              "      <td>90003</td>\n",
              "      <td>2012</td>\n",
              "      <td>Hybrid Gasoline</td>\n",
              "      <td>OTHER/UNK</td>\n",
              "      <td>Yes</td>\n",
              "      <td>4.0</td>\n",
              "      <td>23112.45</td>\n",
              "    </tr>\n",
              "    <tr>\n",
              "      <th>996</th>\n",
              "      <td>6/9/2019</td>\n",
              "      <td>90003</td>\n",
              "      <td>2012</td>\n",
              "      <td>Hybrid Gasoline</td>\n",
              "      <td>Type_Q</td>\n",
              "      <td>Yes</td>\n",
              "      <td>25.0</td>\n",
              "      <td>36798.42</td>\n",
              "    </tr>\n",
              "    <tr>\n",
              "      <th>997</th>\n",
              "      <td>6/10/2019</td>\n",
              "      <td>90003</td>\n",
              "      <td>2012</td>\n",
              "      <td>Natural Gas</td>\n",
              "      <td>OTHER/UNK</td>\n",
              "      <td>Yes</td>\n",
              "      <td>1.0</td>\n",
              "      <td>32470.59</td>\n",
              "    </tr>\n",
              "    <tr>\n",
              "      <th>998</th>\n",
              "      <td>6/11/2019</td>\n",
              "      <td>90003</td>\n",
              "      <td>2012</td>\n",
              "      <td>Plug-in Hybrid</td>\n",
              "      <td>OTHER/UNK</td>\n",
              "      <td>Yes</td>\n",
              "      <td>3.0</td>\n",
              "      <td>15652.22</td>\n",
              "    </tr>\n",
              "  </tbody>\n",
              "</table>\n",
              "</div>"
            ],
            "text/plain": [
              "          Date Zip Code Model Year  ... Light_Duty Vehicles meanprice\n",
              "994   6/7/2019    90003       2012  ...        Yes     26.0  29740.30\n",
              "995   6/8/2019    90003       2012  ...        Yes      4.0  23112.45\n",
              "996   6/9/2019    90003       2012  ...        Yes     25.0  36798.42\n",
              "997  6/10/2019    90003       2012  ...        Yes      1.0  32470.59\n",
              "998  6/11/2019    90003       2012  ...        Yes      3.0  15652.22\n",
              "\n",
              "[5 rows x 8 columns]"
            ]
          },
          "metadata": {
            "tags": []
          },
          "execution_count": 4
        }
      ]
    },
    {
      "cell_type": "markdown",
      "metadata": {
        "id": "9KKds7OU9eDP"
      },
      "source": [
        "### Tipos de dados das colunas\n",
        "\n",
        "DataFrames podem ter tipos de dados heterogêneos, isso é, uma coluna ser string, outra inteiro e assim por diante.\n",
        "\n",
        "Arquivos CSV não contém informações sobre tipos de dados a biblioteca Pandas infere os tipos de dados de cada coluna.\n",
        "\n",
        "Verificar os tipos de dados das colunas, usando .info()"
      ]
    },
    {
      "cell_type": "code",
      "metadata": {
        "colab": {
          "base_uri": "https://localhost:8080/"
        },
        "id": "yCxt0QaC9eDQ",
        "outputId": "e0b1844f-1a00-4a05-da32-02c4d3457c1a"
      },
      "source": [
        "# Verificar os tipos de dados das colunas\n",
        "df.info()"
      ],
      "execution_count": 5,
      "outputs": [
        {
          "output_type": "stream",
          "text": [
            "<class 'pandas.core.frame.DataFrame'>\n",
            "RangeIndex: 999 entries, 0 to 998\n",
            "Data columns (total 8 columns):\n",
            " #   Column      Non-Null Count  Dtype  \n",
            "---  ------      --------------  -----  \n",
            " 0   Date        997 non-null    object \n",
            " 1   Zip Code    997 non-null    object \n",
            " 2   Model Year  997 non-null    object \n",
            " 3   Fuel        996 non-null    object \n",
            " 4   Make        996 non-null    object \n",
            " 5   Light_Duty  996 non-null    object \n",
            " 6   Vehicles    996 non-null    float64\n",
            " 7   meanprice   999 non-null    float64\n",
            "dtypes: float64(2), object(6)\n",
            "memory usage: 62.6+ KB\n"
          ],
          "name": "stdout"
        }
      ]
    },
    {
      "cell_type": "markdown",
      "metadata": {
        "id": "HzUsLZAc9eDR"
      },
      "source": [
        "Temos então seis objetos strings e 2 objetos float.\r\n",
        "\r\n",
        "> Bloco com recuo\r\n",
        "\r\n",
        "\r\n"
      ]
    },
    {
      "cell_type": "markdown",
      "metadata": {
        "id": "OzR7vWY49eDS"
      },
      "source": [
        "### Estatísticas de resumo \n",
        "\n",
        "Nesse ponto, temos somente uma coluna que contém valores numéricos. Para essas colunas, estamos interessados em várias medidas estatísticas relativas a esses valores. Repare que por ter somente uma *feature* numérica, somente vemos uma estatística de resumo."
      ]
    },
    {
      "cell_type": "code",
      "metadata": {
        "colab": {
          "base_uri": "https://localhost:8080/",
          "height": 297
        },
        "id": "fJMiVMYR9eDU",
        "outputId": "3d6fb169-5a67-4e7a-b504-72510f929236"
      },
      "source": [
        "# usar .describe() para obter as estatísticas de resumo de colunas numéricas\n",
        "df.describe()"
      ],
      "execution_count": 6,
      "outputs": [
        {
          "output_type": "execute_result",
          "data": {
            "text/html": [
              "<div>\n",
              "<style scoped>\n",
              "    .dataframe tbody tr th:only-of-type {\n",
              "        vertical-align: middle;\n",
              "    }\n",
              "\n",
              "    .dataframe tbody tr th {\n",
              "        vertical-align: top;\n",
              "    }\n",
              "\n",
              "    .dataframe thead th {\n",
              "        text-align: right;\n",
              "    }\n",
              "</style>\n",
              "<table border=\"1\" class=\"dataframe\">\n",
              "  <thead>\n",
              "    <tr style=\"text-align: right;\">\n",
              "      <th></th>\n",
              "      <th>Vehicles</th>\n",
              "      <th>meanprice</th>\n",
              "    </tr>\n",
              "  </thead>\n",
              "  <tbody>\n",
              "    <tr>\n",
              "      <th>count</th>\n",
              "      <td>996.000000</td>\n",
              "      <td>999.000000</td>\n",
              "    </tr>\n",
              "    <tr>\n",
              "      <th>mean</th>\n",
              "      <td>72.878514</td>\n",
              "      <td>30312.060811</td>\n",
              "    </tr>\n",
              "    <tr>\n",
              "      <th>std</th>\n",
              "      <td>229.696895</td>\n",
              "      <td>11485.268297</td>\n",
              "    </tr>\n",
              "    <tr>\n",
              "      <th>min</th>\n",
              "      <td>1.000000</td>\n",
              "      <td>10034.210000</td>\n",
              "    </tr>\n",
              "    <tr>\n",
              "      <th>25%</th>\n",
              "      <td>13.000000</td>\n",
              "      <td>20230.065000</td>\n",
              "    </tr>\n",
              "    <tr>\n",
              "      <th>50%</th>\n",
              "      <td>23.000000</td>\n",
              "      <td>30644.200000</td>\n",
              "    </tr>\n",
              "    <tr>\n",
              "      <th>75%</th>\n",
              "      <td>57.250000</td>\n",
              "      <td>40065.725000</td>\n",
              "    </tr>\n",
              "    <tr>\n",
              "      <th>max</th>\n",
              "      <td>3178.000000</td>\n",
              "      <td>49962.760000</td>\n",
              "    </tr>\n",
              "  </tbody>\n",
              "</table>\n",
              "</div>"
            ],
            "text/plain": [
              "          Vehicles     meanprice\n",
              "count   996.000000    999.000000\n",
              "mean     72.878514  30312.060811\n",
              "std     229.696895  11485.268297\n",
              "min       1.000000  10034.210000\n",
              "25%      13.000000  20230.065000\n",
              "50%      23.000000  30644.200000\n",
              "75%      57.250000  40065.725000\n",
              "max    3178.000000  49962.760000"
            ]
          },
          "metadata": {
            "tags": []
          },
          "execution_count": 6
        }
      ]
    },
    {
      "cell_type": "markdown",
      "metadata": {
        "id": "ryjTNUQC9eDW"
      },
      "source": [
        "### Verificando valores ausentes\n",
        "\n",
        "Valores ausentes impactam negativamente na qualidade dos dados, cem como podem levar a modelos de *machine learning* fazerem inferências erradas sobre os dados. Valores ausentes podem ser causados por inúmeros fatores, como bits perdidos na transmissão, entrada incorreta de dados ou pelo não preenchimento de um campo. A Pandas reconhece tanto células vazias quando tipos NaN como valores ausentes."
      ]
    },
    {
      "cell_type": "markdown",
      "metadata": {
        "id": "gouEkmtc9eDX"
      },
      "source": [
        "#### Vamos verificar os valores ausentes"
      ]
    },
    {
      "cell_type": "markdown",
      "metadata": {
        "id": "RgqsjsQFD_JL"
      },
      "source": [
        "Para isso, vamos explorar algumas maneiras de fazer isso."
      ]
    },
    {
      "cell_type": "markdown",
      "metadata": {
        "id": "f2gEZ_FjEC5u"
      },
      "source": [
        "1ª) Usando .isnull()"
      ]
    },
    {
      "cell_type": "code",
      "metadata": {
        "colab": {
          "base_uri": "https://localhost:8080/",
          "height": 419
        },
        "id": "kVZ_ueTO9eDY",
        "outputId": "a89877ba-a074-43bf-aa8b-d27638f9c6ed"
      },
      "source": [
        "# Usar .isnull()\r\n",
        "df.isnull()"
      ],
      "execution_count": 7,
      "outputs": [
        {
          "output_type": "execute_result",
          "data": {
            "text/html": [
              "<div>\n",
              "<style scoped>\n",
              "    .dataframe tbody tr th:only-of-type {\n",
              "        vertical-align: middle;\n",
              "    }\n",
              "\n",
              "    .dataframe tbody tr th {\n",
              "        vertical-align: top;\n",
              "    }\n",
              "\n",
              "    .dataframe thead th {\n",
              "        text-align: right;\n",
              "    }\n",
              "</style>\n",
              "<table border=\"1\" class=\"dataframe\">\n",
              "  <thead>\n",
              "    <tr style=\"text-align: right;\">\n",
              "      <th></th>\n",
              "      <th>Date</th>\n",
              "      <th>Zip Code</th>\n",
              "      <th>Model Year</th>\n",
              "      <th>Fuel</th>\n",
              "      <th>Make</th>\n",
              "      <th>Light_Duty</th>\n",
              "      <th>Vehicles</th>\n",
              "      <th>meanprice</th>\n",
              "    </tr>\n",
              "  </thead>\n",
              "  <tbody>\n",
              "    <tr>\n",
              "      <th>0</th>\n",
              "      <td>False</td>\n",
              "      <td>False</td>\n",
              "      <td>False</td>\n",
              "      <td>False</td>\n",
              "      <td>False</td>\n",
              "      <td>True</td>\n",
              "      <td>False</td>\n",
              "      <td>False</td>\n",
              "    </tr>\n",
              "    <tr>\n",
              "      <th>1</th>\n",
              "      <td>False</td>\n",
              "      <td>True</td>\n",
              "      <td>False</td>\n",
              "      <td>False</td>\n",
              "      <td>True</td>\n",
              "      <td>False</td>\n",
              "      <td>False</td>\n",
              "      <td>False</td>\n",
              "    </tr>\n",
              "    <tr>\n",
              "      <th>2</th>\n",
              "      <td>True</td>\n",
              "      <td>False</td>\n",
              "      <td>True</td>\n",
              "      <td>False</td>\n",
              "      <td>False</td>\n",
              "      <td>False</td>\n",
              "      <td>True</td>\n",
              "      <td>False</td>\n",
              "    </tr>\n",
              "    <tr>\n",
              "      <th>3</th>\n",
              "      <td>False</td>\n",
              "      <td>False</td>\n",
              "      <td>False</td>\n",
              "      <td>False</td>\n",
              "      <td>False</td>\n",
              "      <td>False</td>\n",
              "      <td>False</td>\n",
              "      <td>False</td>\n",
              "    </tr>\n",
              "    <tr>\n",
              "      <th>4</th>\n",
              "      <td>False</td>\n",
              "      <td>False</td>\n",
              "      <td>False</td>\n",
              "      <td>False</td>\n",
              "      <td>False</td>\n",
              "      <td>False</td>\n",
              "      <td>False</td>\n",
              "      <td>False</td>\n",
              "    </tr>\n",
              "    <tr>\n",
              "      <th>...</th>\n",
              "      <td>...</td>\n",
              "      <td>...</td>\n",
              "      <td>...</td>\n",
              "      <td>...</td>\n",
              "      <td>...</td>\n",
              "      <td>...</td>\n",
              "      <td>...</td>\n",
              "      <td>...</td>\n",
              "    </tr>\n",
              "    <tr>\n",
              "      <th>994</th>\n",
              "      <td>False</td>\n",
              "      <td>False</td>\n",
              "      <td>False</td>\n",
              "      <td>False</td>\n",
              "      <td>False</td>\n",
              "      <td>False</td>\n",
              "      <td>False</td>\n",
              "      <td>False</td>\n",
              "    </tr>\n",
              "    <tr>\n",
              "      <th>995</th>\n",
              "      <td>False</td>\n",
              "      <td>False</td>\n",
              "      <td>False</td>\n",
              "      <td>False</td>\n",
              "      <td>False</td>\n",
              "      <td>False</td>\n",
              "      <td>False</td>\n",
              "      <td>False</td>\n",
              "    </tr>\n",
              "    <tr>\n",
              "      <th>996</th>\n",
              "      <td>False</td>\n",
              "      <td>False</td>\n",
              "      <td>False</td>\n",
              "      <td>False</td>\n",
              "      <td>False</td>\n",
              "      <td>False</td>\n",
              "      <td>False</td>\n",
              "      <td>False</td>\n",
              "    </tr>\n",
              "    <tr>\n",
              "      <th>997</th>\n",
              "      <td>False</td>\n",
              "      <td>False</td>\n",
              "      <td>False</td>\n",
              "      <td>False</td>\n",
              "      <td>False</td>\n",
              "      <td>False</td>\n",
              "      <td>False</td>\n",
              "      <td>False</td>\n",
              "    </tr>\n",
              "    <tr>\n",
              "      <th>998</th>\n",
              "      <td>False</td>\n",
              "      <td>False</td>\n",
              "      <td>False</td>\n",
              "      <td>False</td>\n",
              "      <td>False</td>\n",
              "      <td>False</td>\n",
              "      <td>False</td>\n",
              "      <td>False</td>\n",
              "    </tr>\n",
              "  </tbody>\n",
              "</table>\n",
              "<p>999 rows × 8 columns</p>\n",
              "</div>"
            ],
            "text/plain": [
              "      Date  Zip Code  Model Year   Fuel   Make  Light_Duty  Vehicles  meanprice\n",
              "0    False     False       False  False  False        True     False      False\n",
              "1    False      True       False  False   True       False     False      False\n",
              "2     True     False        True  False  False       False      True      False\n",
              "3    False     False       False  False  False       False     False      False\n",
              "4    False     False       False  False  False       False     False      False\n",
              "..     ...       ...         ...    ...    ...         ...       ...        ...\n",
              "994  False     False       False  False  False       False     False      False\n",
              "995  False     False       False  False  False       False     False      False\n",
              "996  False     False       False  False  False       False     False      False\n",
              "997  False     False       False  False  False       False     False      False\n",
              "998  False     False       False  False  False       False     False      False\n",
              "\n",
              "[999 rows x 8 columns]"
            ]
          },
          "metadata": {
            "tags": []
          },
          "execution_count": 7
        }
      ]
    },
    {
      "cell_type": "code",
      "metadata": {
        "colab": {
          "base_uri": "https://localhost:8080/"
        },
        "id": "D4km_30mEILC",
        "outputId": "a4b5e585-e9c1-46f0-ac20-2dc8b9085f41"
      },
      "source": [
        "# usar .sum() ao final de .isnull()\r\n",
        "df.isnull().sum()"
      ],
      "execution_count": 8,
      "outputs": [
        {
          "output_type": "execute_result",
          "data": {
            "text/plain": [
              "Date          2\n",
              "Zip Code      2\n",
              "Model Year    2\n",
              "Fuel          3\n",
              "Make          3\n",
              "Light_Duty    3\n",
              "Vehicles      3\n",
              "meanprice     0\n",
              "dtype: int64"
            ]
          },
          "metadata": {
            "tags": []
          },
          "execution_count": 8
        }
      ]
    },
    {
      "cell_type": "markdown",
      "metadata": {
        "id": "X7u7n0W_9eDZ"
      },
      "source": [
        "Podemos selecionar uma ou mais colunas para verificar os valores ausentes"
      ]
    },
    {
      "cell_type": "code",
      "metadata": {
        "colab": {
          "base_uri": "https://localhost:8080/"
        },
        "id": "a4JsOq4C9eDZ",
        "outputId": "b7710f3c-8b3d-4b38-b458-d196ee4a79f6"
      },
      "source": [
        "# Ver quantos valores ausentes somente para a coluna Date\n",
        "df['Date'].isnull().sum()"
      ],
      "execution_count": 9,
      "outputs": [
        {
          "output_type": "execute_result",
          "data": {
            "text/plain": [
              "2"
            ]
          },
          "metadata": {
            "tags": []
          },
          "execution_count": 9
        }
      ]
    },
    {
      "cell_type": "markdown",
      "metadata": {
        "id": "69rCbAX6Eo8U"
      },
      "source": [
        "2º) Usando .isna()"
      ]
    },
    {
      "cell_type": "code",
      "metadata": {
        "colab": {
          "base_uri": "https://localhost:8080/",
          "height": 419
        },
        "id": "0tFFRcijEryi",
        "outputId": "d3c99801-21bd-433a-90a0-463193c57418"
      },
      "source": [
        "# Usar .isna()\r\n",
        "df.isna()"
      ],
      "execution_count": 10,
      "outputs": [
        {
          "output_type": "execute_result",
          "data": {
            "text/html": [
              "<div>\n",
              "<style scoped>\n",
              "    .dataframe tbody tr th:only-of-type {\n",
              "        vertical-align: middle;\n",
              "    }\n",
              "\n",
              "    .dataframe tbody tr th {\n",
              "        vertical-align: top;\n",
              "    }\n",
              "\n",
              "    .dataframe thead th {\n",
              "        text-align: right;\n",
              "    }\n",
              "</style>\n",
              "<table border=\"1\" class=\"dataframe\">\n",
              "  <thead>\n",
              "    <tr style=\"text-align: right;\">\n",
              "      <th></th>\n",
              "      <th>Date</th>\n",
              "      <th>Zip Code</th>\n",
              "      <th>Model Year</th>\n",
              "      <th>Fuel</th>\n",
              "      <th>Make</th>\n",
              "      <th>Light_Duty</th>\n",
              "      <th>Vehicles</th>\n",
              "      <th>meanprice</th>\n",
              "    </tr>\n",
              "  </thead>\n",
              "  <tbody>\n",
              "    <tr>\n",
              "      <th>0</th>\n",
              "      <td>False</td>\n",
              "      <td>False</td>\n",
              "      <td>False</td>\n",
              "      <td>False</td>\n",
              "      <td>False</td>\n",
              "      <td>True</td>\n",
              "      <td>False</td>\n",
              "      <td>False</td>\n",
              "    </tr>\n",
              "    <tr>\n",
              "      <th>1</th>\n",
              "      <td>False</td>\n",
              "      <td>True</td>\n",
              "      <td>False</td>\n",
              "      <td>False</td>\n",
              "      <td>True</td>\n",
              "      <td>False</td>\n",
              "      <td>False</td>\n",
              "      <td>False</td>\n",
              "    </tr>\n",
              "    <tr>\n",
              "      <th>2</th>\n",
              "      <td>True</td>\n",
              "      <td>False</td>\n",
              "      <td>True</td>\n",
              "      <td>False</td>\n",
              "      <td>False</td>\n",
              "      <td>False</td>\n",
              "      <td>True</td>\n",
              "      <td>False</td>\n",
              "    </tr>\n",
              "    <tr>\n",
              "      <th>3</th>\n",
              "      <td>False</td>\n",
              "      <td>False</td>\n",
              "      <td>False</td>\n",
              "      <td>False</td>\n",
              "      <td>False</td>\n",
              "      <td>False</td>\n",
              "      <td>False</td>\n",
              "      <td>False</td>\n",
              "    </tr>\n",
              "    <tr>\n",
              "      <th>4</th>\n",
              "      <td>False</td>\n",
              "      <td>False</td>\n",
              "      <td>False</td>\n",
              "      <td>False</td>\n",
              "      <td>False</td>\n",
              "      <td>False</td>\n",
              "      <td>False</td>\n",
              "      <td>False</td>\n",
              "    </tr>\n",
              "    <tr>\n",
              "      <th>...</th>\n",
              "      <td>...</td>\n",
              "      <td>...</td>\n",
              "      <td>...</td>\n",
              "      <td>...</td>\n",
              "      <td>...</td>\n",
              "      <td>...</td>\n",
              "      <td>...</td>\n",
              "      <td>...</td>\n",
              "    </tr>\n",
              "    <tr>\n",
              "      <th>994</th>\n",
              "      <td>False</td>\n",
              "      <td>False</td>\n",
              "      <td>False</td>\n",
              "      <td>False</td>\n",
              "      <td>False</td>\n",
              "      <td>False</td>\n",
              "      <td>False</td>\n",
              "      <td>False</td>\n",
              "    </tr>\n",
              "    <tr>\n",
              "      <th>995</th>\n",
              "      <td>False</td>\n",
              "      <td>False</td>\n",
              "      <td>False</td>\n",
              "      <td>False</td>\n",
              "      <td>False</td>\n",
              "      <td>False</td>\n",
              "      <td>False</td>\n",
              "      <td>False</td>\n",
              "    </tr>\n",
              "    <tr>\n",
              "      <th>996</th>\n",
              "      <td>False</td>\n",
              "      <td>False</td>\n",
              "      <td>False</td>\n",
              "      <td>False</td>\n",
              "      <td>False</td>\n",
              "      <td>False</td>\n",
              "      <td>False</td>\n",
              "      <td>False</td>\n",
              "    </tr>\n",
              "    <tr>\n",
              "      <th>997</th>\n",
              "      <td>False</td>\n",
              "      <td>False</td>\n",
              "      <td>False</td>\n",
              "      <td>False</td>\n",
              "      <td>False</td>\n",
              "      <td>False</td>\n",
              "      <td>False</td>\n",
              "      <td>False</td>\n",
              "    </tr>\n",
              "    <tr>\n",
              "      <th>998</th>\n",
              "      <td>False</td>\n",
              "      <td>False</td>\n",
              "      <td>False</td>\n",
              "      <td>False</td>\n",
              "      <td>False</td>\n",
              "      <td>False</td>\n",
              "      <td>False</td>\n",
              "      <td>False</td>\n",
              "    </tr>\n",
              "  </tbody>\n",
              "</table>\n",
              "<p>999 rows × 8 columns</p>\n",
              "</div>"
            ],
            "text/plain": [
              "      Date  Zip Code  Model Year   Fuel   Make  Light_Duty  Vehicles  meanprice\n",
              "0    False     False       False  False  False        True     False      False\n",
              "1    False      True       False  False   True       False     False      False\n",
              "2     True     False        True  False  False       False      True      False\n",
              "3    False     False       False  False  False       False     False      False\n",
              "4    False     False       False  False  False       False     False      False\n",
              "..     ...       ...         ...    ...    ...         ...       ...        ...\n",
              "994  False     False       False  False  False       False     False      False\n",
              "995  False     False       False  False  False       False     False      False\n",
              "996  False     False       False  False  False       False     False      False\n",
              "997  False     False       False  False  False       False     False      False\n",
              "998  False     False       False  False  False       False     False      False\n",
              "\n",
              "[999 rows x 8 columns]"
            ]
          },
          "metadata": {
            "tags": []
          },
          "execution_count": 10
        }
      ]
    },
    {
      "cell_type": "code",
      "metadata": {
        "colab": {
          "base_uri": "https://localhost:8080/"
        },
        "id": "sKn4N2ZhEtsY",
        "outputId": "f35ac910-fa97-4de9-9f89-263e76a5d799"
      },
      "source": [
        "# Usar .sum() ao final de .isna()\r\n",
        "df.isna().sum()"
      ],
      "execution_count": 11,
      "outputs": [
        {
          "output_type": "execute_result",
          "data": {
            "text/plain": [
              "Date          2\n",
              "Zip Code      2\n",
              "Model Year    2\n",
              "Fuel          3\n",
              "Make          3\n",
              "Light_Duty    3\n",
              "Vehicles      3\n",
              "meanprice     0\n",
              "dtype: int64"
            ]
          },
          "metadata": {
            "tags": []
          },
          "execution_count": 11
        }
      ]
    },
    {
      "cell_type": "markdown",
      "metadata": {
        "id": "e42lALPaFnOx"
      },
      "source": [
        "3º) Podemos estar interessados nos valores não ausentes, nesse caso usamos .notna()"
      ]
    },
    {
      "cell_type": "code",
      "metadata": {
        "colab": {
          "base_uri": "https://localhost:8080/",
          "height": 419
        },
        "id": "swfxygVqFtKu",
        "outputId": "7090d0b4-d47b-4e1e-b959-792c3b3492bb"
      },
      "source": [
        "# Usar .notna() para ver os valores não ausentes\r\n",
        "df.notna()"
      ],
      "execution_count": 12,
      "outputs": [
        {
          "output_type": "execute_result",
          "data": {
            "text/html": [
              "<div>\n",
              "<style scoped>\n",
              "    .dataframe tbody tr th:only-of-type {\n",
              "        vertical-align: middle;\n",
              "    }\n",
              "\n",
              "    .dataframe tbody tr th {\n",
              "        vertical-align: top;\n",
              "    }\n",
              "\n",
              "    .dataframe thead th {\n",
              "        text-align: right;\n",
              "    }\n",
              "</style>\n",
              "<table border=\"1\" class=\"dataframe\">\n",
              "  <thead>\n",
              "    <tr style=\"text-align: right;\">\n",
              "      <th></th>\n",
              "      <th>Date</th>\n",
              "      <th>Zip Code</th>\n",
              "      <th>Model Year</th>\n",
              "      <th>Fuel</th>\n",
              "      <th>Make</th>\n",
              "      <th>Light_Duty</th>\n",
              "      <th>Vehicles</th>\n",
              "      <th>meanprice</th>\n",
              "    </tr>\n",
              "  </thead>\n",
              "  <tbody>\n",
              "    <tr>\n",
              "      <th>0</th>\n",
              "      <td>True</td>\n",
              "      <td>True</td>\n",
              "      <td>True</td>\n",
              "      <td>True</td>\n",
              "      <td>True</td>\n",
              "      <td>False</td>\n",
              "      <td>True</td>\n",
              "      <td>True</td>\n",
              "    </tr>\n",
              "    <tr>\n",
              "      <th>1</th>\n",
              "      <td>True</td>\n",
              "      <td>False</td>\n",
              "      <td>True</td>\n",
              "      <td>True</td>\n",
              "      <td>False</td>\n",
              "      <td>True</td>\n",
              "      <td>True</td>\n",
              "      <td>True</td>\n",
              "    </tr>\n",
              "    <tr>\n",
              "      <th>2</th>\n",
              "      <td>False</td>\n",
              "      <td>True</td>\n",
              "      <td>False</td>\n",
              "      <td>True</td>\n",
              "      <td>True</td>\n",
              "      <td>True</td>\n",
              "      <td>False</td>\n",
              "      <td>True</td>\n",
              "    </tr>\n",
              "    <tr>\n",
              "      <th>3</th>\n",
              "      <td>True</td>\n",
              "      <td>True</td>\n",
              "      <td>True</td>\n",
              "      <td>True</td>\n",
              "      <td>True</td>\n",
              "      <td>True</td>\n",
              "      <td>True</td>\n",
              "      <td>True</td>\n",
              "    </tr>\n",
              "    <tr>\n",
              "      <th>4</th>\n",
              "      <td>True</td>\n",
              "      <td>True</td>\n",
              "      <td>True</td>\n",
              "      <td>True</td>\n",
              "      <td>True</td>\n",
              "      <td>True</td>\n",
              "      <td>True</td>\n",
              "      <td>True</td>\n",
              "    </tr>\n",
              "    <tr>\n",
              "      <th>...</th>\n",
              "      <td>...</td>\n",
              "      <td>...</td>\n",
              "      <td>...</td>\n",
              "      <td>...</td>\n",
              "      <td>...</td>\n",
              "      <td>...</td>\n",
              "      <td>...</td>\n",
              "      <td>...</td>\n",
              "    </tr>\n",
              "    <tr>\n",
              "      <th>994</th>\n",
              "      <td>True</td>\n",
              "      <td>True</td>\n",
              "      <td>True</td>\n",
              "      <td>True</td>\n",
              "      <td>True</td>\n",
              "      <td>True</td>\n",
              "      <td>True</td>\n",
              "      <td>True</td>\n",
              "    </tr>\n",
              "    <tr>\n",
              "      <th>995</th>\n",
              "      <td>True</td>\n",
              "      <td>True</td>\n",
              "      <td>True</td>\n",
              "      <td>True</td>\n",
              "      <td>True</td>\n",
              "      <td>True</td>\n",
              "      <td>True</td>\n",
              "      <td>True</td>\n",
              "    </tr>\n",
              "    <tr>\n",
              "      <th>996</th>\n",
              "      <td>True</td>\n",
              "      <td>True</td>\n",
              "      <td>True</td>\n",
              "      <td>True</td>\n",
              "      <td>True</td>\n",
              "      <td>True</td>\n",
              "      <td>True</td>\n",
              "      <td>True</td>\n",
              "    </tr>\n",
              "    <tr>\n",
              "      <th>997</th>\n",
              "      <td>True</td>\n",
              "      <td>True</td>\n",
              "      <td>True</td>\n",
              "      <td>True</td>\n",
              "      <td>True</td>\n",
              "      <td>True</td>\n",
              "      <td>True</td>\n",
              "      <td>True</td>\n",
              "    </tr>\n",
              "    <tr>\n",
              "      <th>998</th>\n",
              "      <td>True</td>\n",
              "      <td>True</td>\n",
              "      <td>True</td>\n",
              "      <td>True</td>\n",
              "      <td>True</td>\n",
              "      <td>True</td>\n",
              "      <td>True</td>\n",
              "      <td>True</td>\n",
              "    </tr>\n",
              "  </tbody>\n",
              "</table>\n",
              "<p>999 rows × 8 columns</p>\n",
              "</div>"
            ],
            "text/plain": [
              "      Date  Zip Code  Model Year  Fuel   Make  Light_Duty  Vehicles  meanprice\n",
              "0     True      True        True  True   True       False      True       True\n",
              "1     True     False        True  True  False        True      True       True\n",
              "2    False      True       False  True   True        True     False       True\n",
              "3     True      True        True  True   True        True      True       True\n",
              "4     True      True        True  True   True        True      True       True\n",
              "..     ...       ...         ...   ...    ...         ...       ...        ...\n",
              "994   True      True        True  True   True        True      True       True\n",
              "995   True      True        True  True   True        True      True       True\n",
              "996   True      True        True  True   True        True      True       True\n",
              "997   True      True        True  True   True        True      True       True\n",
              "998   True      True        True  True   True        True      True       True\n",
              "\n",
              "[999 rows x 8 columns]"
            ]
          },
          "metadata": {
            "tags": []
          },
          "execution_count": 12
        }
      ]
    },
    {
      "cell_type": "code",
      "metadata": {
        "colab": {
          "base_uri": "https://localhost:8080/"
        },
        "id": "b0eTvy-_Fy1E",
        "outputId": "4a038734-828e-4523-d62f-6da94d8c86d6"
      },
      "source": [
        "# Usar .sum() ao final de .notna()\r\n",
        "df.notna().sum()"
      ],
      "execution_count": 13,
      "outputs": [
        {
          "output_type": "execute_result",
          "data": {
            "text/plain": [
              "Date          997\n",
              "Zip Code      997\n",
              "Model Year    997\n",
              "Fuel          996\n",
              "Make          996\n",
              "Light_Duty    996\n",
              "Vehicles      996\n",
              "meanprice     999\n",
              "dtype: int64"
            ]
          },
          "metadata": {
            "tags": []
          },
          "execution_count": 13
        }
      ]
    },
    {
      "cell_type": "markdown",
      "metadata": {
        "id": "jaajw8Ud9eDd"
      },
      "source": [
        "# Vamos sumarizar nossos dados por linha, coluna, *features*, valores únicos e valores ausentes.\n"
      ]
    },
    {
      "cell_type": "code",
      "metadata": {
        "colab": {
          "base_uri": "https://localhost:8080/"
        },
        "id": "bnjfRXfpGJNE",
        "outputId": "00866e37-8031-47a3-810c-b2da121ea6ca"
      },
      "source": [
        "# Mostrar número de linhas\r\n",
        "df.shape[0]"
      ],
      "execution_count": 14,
      "outputs": [
        {
          "output_type": "execute_result",
          "data": {
            "text/plain": [
              "999"
            ]
          },
          "metadata": {
            "tags": []
          },
          "execution_count": 14
        }
      ]
    },
    {
      "cell_type": "code",
      "metadata": {
        "colab": {
          "base_uri": "https://localhost:8080/"
        },
        "id": "nhkfYRaeGNzf",
        "outputId": "eb1d6665-3347-4531-9e15-87ed6fb028f1"
      },
      "source": [
        "# Mostrar número de colunas\r\n",
        "df.shape[1]"
      ],
      "execution_count": 15,
      "outputs": [
        {
          "output_type": "execute_result",
          "data": {
            "text/plain": [
              "8"
            ]
          },
          "metadata": {
            "tags": []
          },
          "execution_count": 15
        }
      ]
    },
    {
      "cell_type": "code",
      "metadata": {
        "colab": {
          "base_uri": "https://localhost:8080/"
        },
        "id": "0EF4zTLMGVjb",
        "outputId": "b17a247e-0550-48c5-8add-e0afad433878"
      },
      "source": [
        "# Mostrar *features* (ou nomes de colunas). Usar .tolist() ao final.\r\n",
        "df.columns.tolist()"
      ],
      "execution_count": 16,
      "outputs": [
        {
          "output_type": "execute_result",
          "data": {
            "text/plain": [
              "['Date',\n",
              " 'Zip Code',\n",
              " 'Model Year',\n",
              " 'Fuel',\n",
              " 'Make',\n",
              " 'Light_Duty',\n",
              " 'Vehicles',\n",
              " 'meanprice']"
            ]
          },
          "metadata": {
            "tags": []
          },
          "execution_count": 16
        }
      ]
    },
    {
      "cell_type": "code",
      "metadata": {
        "colab": {
          "base_uri": "https://localhost:8080/"
        },
        "id": "X_1gEjKHGnSR",
        "outputId": "d1ba8596-d978-419a-b7a7-61d989195d58"
      },
      "source": [
        "# Mostrar valores únicos .nunique()\r\n",
        "df.nunique()"
      ],
      "execution_count": 17,
      "outputs": [
        {
          "output_type": "execute_result",
          "data": {
            "text/plain": [
              "Date          248\n",
              "Zip Code        6\n",
              "Model Year     15\n",
              "Fuel            8\n",
              "Make           43\n",
              "Light_Duty      3\n",
              "Vehicles      210\n",
              "meanprice     999\n",
              "dtype: int64"
            ]
          },
          "metadata": {
            "tags": []
          },
          "execution_count": 17
        }
      ]
    },
    {
      "cell_type": "code",
      "metadata": {
        "colab": {
          "base_uri": "https://localhost:8080/"
        },
        "id": "FDdlbvTkGuEr",
        "outputId": "98ba752b-7fc7-4175-a2bd-5923c64a0a53"
      },
      "source": [
        "# Mostrar valores ausentes (usar .values.sum() ao final)\r\n",
        "df.isna().values.sum()"
      ],
      "execution_count": 18,
      "outputs": [
        {
          "output_type": "execute_result",
          "data": {
            "text/plain": [
              "18"
            ]
          },
          "metadata": {
            "tags": []
          },
          "execution_count": 18
        }
      ]
    },
    {
      "cell_type": "markdown",
      "metadata": {
        "id": "7BD4rw0o9eDg"
      },
      "source": [
        "### Onde podemos melhorar a qualidade de dados?\n",
        "\n",
        "Lembrando que o objetivo é alimentar algoritmos de *machine learning*.\n",
        "\n",
        "1. **Questão #1**:  \n",
        "> **Valores ausentes**:\n",
        "Cada coluna tem valores ausentes. Na realidade, temos um total de 18 valores ausentes.\n",
        "2. **Questão #2**: \n",
        "> **Tipo de dados de data**:  A coluna Date é mostrada como um objeto e não como um datetime. Além disso, existe um requisito de negócio que a coluna Date seja parseada para ano, mês e dia.\n",
        "3. **Questão #3**: \n",
        "> **Model Year**: Estamos interessados em anos maiores que 2006, não \"<2006\".\n",
        "4. **Questão #4**:\n",
        "> **meanprice**: Queremos transformar os valores em low, mid and high.\n",
        "5. **Questão #5**:  \n",
        "> **Colunas categóricas**:  A coluna \"Light_Duty\" é categorica e tem valores \"Yes/No\".  Não podemos alimentar um modelo de *machine learning* dessa forma. Precisamos aplicar one-hot encoding nas demais colunas de string.\n",
        "6. **Questão #6**:\n",
        "> Os valores de vehicles estão em uma escala bastante ampla, veremos como normalizar (ou padronizar) esses dados.\n"
      ]
    },
    {
      "cell_type": "markdown",
      "metadata": {
        "id": "XvqaTTKn9eDh"
      },
      "source": [
        "#### Questão #1:  \n",
        "##### Resolvendo valores ausentes"
      ]
    },
    {
      "cell_type": "markdown",
      "metadata": {
        "id": "qyfUgTIF9eDi"
      },
      "source": [
        "A maioria dos algoritmos não aceitam valores ausentes. Para tratar esses valores podemos:\n",
        "\n",
        "- Remover as linhas com valores ausentes. `.dropna()`.\n",
        "\n",
        "- Para colunas numéricas: usar a média para preencher os valores.\n",
        "\n",
        "- Para colunas categóricas: usar a moda para preencher.\n",
        "\n",
        "Obs.: Método `.fillna()`."
      ]
    },
    {
      "cell_type": "code",
      "metadata": {
        "colab": {
          "base_uri": "https://localhost:8080/"
        },
        "id": "YMOKyjim9eDl",
        "outputId": "98a05b6d-1005-4af6-ccb9-77a0d6b79a0c"
      },
      "source": [
        "# Verificar novamente a quantidade de valores ausentes\n",
        "df.isna().sum()"
      ],
      "execution_count": 19,
      "outputs": [
        {
          "output_type": "execute_result",
          "data": {
            "text/plain": [
              "Date          2\n",
              "Zip Code      2\n",
              "Model Year    2\n",
              "Fuel          3\n",
              "Make          3\n",
              "Light_Duty    3\n",
              "Vehicles      3\n",
              "meanprice     0\n",
              "dtype: int64"
            ]
          },
          "metadata": {
            "tags": []
          },
          "execution_count": 19
        }
      ]
    },
    {
      "cell_type": "code",
      "metadata": {
        "colab": {
          "base_uri": "https://localhost:8080/",
          "height": 419
        },
        "id": "J-7L4otEJzvd",
        "outputId": "2e757fba-037d-412d-f6bc-4074a1c75d70"
      },
      "source": [
        "# Se quisermos remover os valores ausentes, usar .dropna()\r\n",
        "# Não alterar o dataframe ainda\r\n",
        "df.dropna()"
      ],
      "execution_count": 20,
      "outputs": [
        {
          "output_type": "execute_result",
          "data": {
            "text/html": [
              "<div>\n",
              "<style scoped>\n",
              "    .dataframe tbody tr th:only-of-type {\n",
              "        vertical-align: middle;\n",
              "    }\n",
              "\n",
              "    .dataframe tbody tr th {\n",
              "        vertical-align: top;\n",
              "    }\n",
              "\n",
              "    .dataframe thead th {\n",
              "        text-align: right;\n",
              "    }\n",
              "</style>\n",
              "<table border=\"1\" class=\"dataframe\">\n",
              "  <thead>\n",
              "    <tr style=\"text-align: right;\">\n",
              "      <th></th>\n",
              "      <th>Date</th>\n",
              "      <th>Zip Code</th>\n",
              "      <th>Model Year</th>\n",
              "      <th>Fuel</th>\n",
              "      <th>Make</th>\n",
              "      <th>Light_Duty</th>\n",
              "      <th>Vehicles</th>\n",
              "      <th>meanprice</th>\n",
              "    </tr>\n",
              "  </thead>\n",
              "  <tbody>\n",
              "    <tr>\n",
              "      <th>3</th>\n",
              "      <td>10/1/2018</td>\n",
              "      <td>90000</td>\n",
              "      <td>2017</td>\n",
              "      <td>Gasoline</td>\n",
              "      <td>OTHER/UNK</td>\n",
              "      <td>Yes</td>\n",
              "      <td>1.0</td>\n",
              "      <td>31920.35</td>\n",
              "    </tr>\n",
              "    <tr>\n",
              "      <th>4</th>\n",
              "      <td>10/1/2018</td>\n",
              "      <td>90000</td>\n",
              "      <td>&lt;2006</td>\n",
              "      <td>Diesel and Diesel Hybrid</td>\n",
              "      <td>OTHER/UNK</td>\n",
              "      <td>No</td>\n",
              "      <td>55.0</td>\n",
              "      <td>27268.07</td>\n",
              "    </tr>\n",
              "    <tr>\n",
              "      <th>5</th>\n",
              "      <td>10/1/2018</td>\n",
              "      <td>90000</td>\n",
              "      <td>&lt;2006</td>\n",
              "      <td>Diesel and Diesel Hybrid</td>\n",
              "      <td>OTHER/UNK</td>\n",
              "      <td>Yes</td>\n",
              "      <td>2.0</td>\n",
              "      <td>35538.39</td>\n",
              "    </tr>\n",
              "    <tr>\n",
              "      <th>6</th>\n",
              "      <td>10/1/2018</td>\n",
              "      <td>90000</td>\n",
              "      <td>&lt;2006</td>\n",
              "      <td>Diesel and Diesel Hybrid</td>\n",
              "      <td>WHITE</td>\n",
              "      <td>No</td>\n",
              "      <td>19.0</td>\n",
              "      <td>14666.66</td>\n",
              "    </tr>\n",
              "    <tr>\n",
              "      <th>7</th>\n",
              "      <td>10/1/2018</td>\n",
              "      <td>90000</td>\n",
              "      <td>&lt;2006</td>\n",
              "      <td>Battery Electric</td>\n",
              "      <td>OTHER/UNK</td>\n",
              "      <td>No</td>\n",
              "      <td>4.0</td>\n",
              "      <td>29493.14</td>\n",
              "    </tr>\n",
              "    <tr>\n",
              "      <th>...</th>\n",
              "      <td>...</td>\n",
              "      <td>...</td>\n",
              "      <td>...</td>\n",
              "      <td>...</td>\n",
              "      <td>...</td>\n",
              "      <td>...</td>\n",
              "      <td>...</td>\n",
              "      <td>...</td>\n",
              "    </tr>\n",
              "    <tr>\n",
              "      <th>994</th>\n",
              "      <td>6/7/2019</td>\n",
              "      <td>90003</td>\n",
              "      <td>2012</td>\n",
              "      <td>Gasoline</td>\n",
              "      <td>Type_R</td>\n",
              "      <td>Yes</td>\n",
              "      <td>26.0</td>\n",
              "      <td>29740.30</td>\n",
              "    </tr>\n",
              "    <tr>\n",
              "      <th>995</th>\n",
              "      <td>6/8/2019</td>\n",
              "      <td>90003</td>\n",
              "      <td>2012</td>\n",
              "      <td>Hybrid Gasoline</td>\n",
              "      <td>OTHER/UNK</td>\n",
              "      <td>Yes</td>\n",
              "      <td>4.0</td>\n",
              "      <td>23112.45</td>\n",
              "    </tr>\n",
              "    <tr>\n",
              "      <th>996</th>\n",
              "      <td>6/9/2019</td>\n",
              "      <td>90003</td>\n",
              "      <td>2012</td>\n",
              "      <td>Hybrid Gasoline</td>\n",
              "      <td>Type_Q</td>\n",
              "      <td>Yes</td>\n",
              "      <td>25.0</td>\n",
              "      <td>36798.42</td>\n",
              "    </tr>\n",
              "    <tr>\n",
              "      <th>997</th>\n",
              "      <td>6/10/2019</td>\n",
              "      <td>90003</td>\n",
              "      <td>2012</td>\n",
              "      <td>Natural Gas</td>\n",
              "      <td>OTHER/UNK</td>\n",
              "      <td>Yes</td>\n",
              "      <td>1.0</td>\n",
              "      <td>32470.59</td>\n",
              "    </tr>\n",
              "    <tr>\n",
              "      <th>998</th>\n",
              "      <td>6/11/2019</td>\n",
              "      <td>90003</td>\n",
              "      <td>2012</td>\n",
              "      <td>Plug-in Hybrid</td>\n",
              "      <td>OTHER/UNK</td>\n",
              "      <td>Yes</td>\n",
              "      <td>3.0</td>\n",
              "      <td>15652.22</td>\n",
              "    </tr>\n",
              "  </tbody>\n",
              "</table>\n",
              "<p>992 rows × 8 columns</p>\n",
              "</div>"
            ],
            "text/plain": [
              "          Date Zip Code Model Year  ... Light_Duty Vehicles meanprice\n",
              "3    10/1/2018    90000       2017  ...        Yes      1.0  31920.35\n",
              "4    10/1/2018    90000      <2006  ...         No     55.0  27268.07\n",
              "5    10/1/2018    90000      <2006  ...        Yes      2.0  35538.39\n",
              "6    10/1/2018    90000      <2006  ...         No     19.0  14666.66\n",
              "7    10/1/2018    90000      <2006  ...         No      4.0  29493.14\n",
              "..         ...      ...        ...  ...        ...      ...       ...\n",
              "994   6/7/2019    90003       2012  ...        Yes     26.0  29740.30\n",
              "995   6/8/2019    90003       2012  ...        Yes      4.0  23112.45\n",
              "996   6/9/2019    90003       2012  ...        Yes     25.0  36798.42\n",
              "997  6/10/2019    90003       2012  ...        Yes      1.0  32470.59\n",
              "998  6/11/2019    90003       2012  ...        Yes      3.0  15652.22\n",
              "\n",
              "[992 rows x 8 columns]"
            ]
          },
          "metadata": {
            "tags": []
          },
          "execution_count": 20
        }
      ]
    },
    {
      "cell_type": "code",
      "metadata": {
        "colab": {
          "base_uri": "https://localhost:8080/"
        },
        "id": "rL9jqnvIKAKN",
        "outputId": "d2fb1e20-6c65-4de0-e35e-527526d121d6"
      },
      "source": [
        "# Pode usar para uma única coluna. Fazer para Vehicles\r\n",
        "df['Vehicles'].dropna()"
      ],
      "execution_count": 21,
      "outputs": [
        {
          "output_type": "execute_result",
          "data": {
            "text/plain": [
              "0       1.0\n",
              "1       1.0\n",
              "3       1.0\n",
              "4      55.0\n",
              "5       2.0\n",
              "       ... \n",
              "994    26.0\n",
              "995     4.0\n",
              "996    25.0\n",
              "997     1.0\n",
              "998     3.0\n",
              "Name: Vehicles, Length: 996, dtype: float64"
            ]
          },
          "metadata": {
            "tags": []
          },
          "execution_count": 21
        }
      ]
    },
    {
      "cell_type": "markdown",
      "metadata": {
        "id": "xOQHuKCNMXuO"
      },
      "source": [
        "Na Pandas existe uma expressão lambda, que podemos aplicar a cada elemento.\r\n",
        "\r\n",
        "Uma expressão lambda é uma função sem nome.\r\n",
        "\r\n",
        "Por exemplo, dividir o o valor em Vehicles por 4:"
      ]
    },
    {
      "cell_type": "code",
      "metadata": {
        "colab": {
          "base_uri": "https://localhost:8080/"
        },
        "id": "S65UOlaxMeGS",
        "outputId": "a9e1a78c-84b7-47df-b803-db4c5b9d868b"
      },
      "source": [
        "df['Vehicles'].apply(lambda x: x / 4)"
      ],
      "execution_count": 22,
      "outputs": [
        {
          "output_type": "execute_result",
          "data": {
            "text/plain": [
              "0       0.25\n",
              "1       0.25\n",
              "2        NaN\n",
              "3       0.25\n",
              "4      13.75\n",
              "       ...  \n",
              "994     6.50\n",
              "995     1.00\n",
              "996     6.25\n",
              "997     0.25\n",
              "998     0.75\n",
              "Name: Vehicles, Length: 999, dtype: float64"
            ]
          },
          "metadata": {
            "tags": []
          },
          "execution_count": 22
        }
      ]
    },
    {
      "cell_type": "markdown",
      "metadata": {
        "id": "I4mWa33uNHtB"
      },
      "source": [
        "Se aplicarmos o mesmo conceito para o dataframe, o x representa uma coluna.\r\n",
        "\r\n",
        "Para ver o valor mais frequente de uma coluna (moda), podemos usar .value_counts() e pegar seu primeiro elemento:"
      ]
    },
    {
      "cell_type": "code",
      "metadata": {
        "colab": {
          "base_uri": "https://localhost:8080/"
        },
        "id": "B5iN7oN9NHTp",
        "outputId": "7cc4489e-97a7-4e02-bf7c-c43a3fabb016"
      },
      "source": [
        "# Aplicar value_counts em Zip Code\r\n",
        "df['Zip Code'].value_counts()"
      ],
      "execution_count": 23,
      "outputs": [
        {
          "output_type": "execute_result",
          "data": {
            "text/plain": [
              "90002    406\n",
              "90001    361\n",
              "90003    213\n",
              "90000     15\n",
              "9001       1\n",
              "na         1\n",
              "Name: Zip Code, dtype: int64"
            ]
          },
          "metadata": {
            "tags": []
          },
          "execution_count": 23
        }
      ]
    },
    {
      "cell_type": "code",
      "metadata": {
        "colab": {
          "base_uri": "https://localhost:8080/",
          "height": 35
        },
        "id": "H-luzrWyNA98",
        "outputId": "4eca8cf2-10d9-41ce-bb47-c3e250d71790"
      },
      "source": [
        "# Usar .index[0] para selecionar o primeiro elemento\r\n",
        "df['Zip Code'].value_counts().index[0]"
      ],
      "execution_count": 24,
      "outputs": [
        {
          "output_type": "execute_result",
          "data": {
            "application/vnd.google.colaboratory.intrinsic+json": {
              "type": "string"
            },
            "text/plain": [
              "'90002'"
            ]
          },
          "metadata": {
            "tags": []
          },
          "execution_count": 24
        }
      ]
    },
    {
      "cell_type": "markdown",
      "metadata": {
        "id": "PRyfz0sDN1fJ"
      },
      "source": [
        "Podemos então colocar esse valor mais frequente nas observações ausentes das variáveis categóricas:"
      ]
    },
    {
      "cell_type": "markdown",
      "metadata": {
        "id": "l104lfnZOej3"
      },
      "source": [
        "Primeiro selecionamos as colunas categóricas, aplicamos a função lambda nelas e atribuímos para atualizar para atualizar o dataframe.\r\n",
        "\r\n",
        "Colunas categóricas: 'Date', 'Zip Code', 'Model Year', 'Fuel', 'Make',\t'Light_Duty'\r\n",
        "\r\n",
        "Obs.: Date ainda é uma string nesse ponto."
      ]
    },
    {
      "cell_type": "code",
      "metadata": {
        "colab": {
          "base_uri": "https://localhost:8080/"
        },
        "id": "UsILouaQODk8",
        "outputId": "89becd7d-fbb3-4e81-cafc-c940910237e8"
      },
      "source": [
        "# Usar .index[0] nas variáveis categóricas\r\n",
        "#não funciona ...Pela combinação, tem que aplicar coluna por coluna\r\n",
        "df[[ 'Date', 'Zip Code', 'Model Year', 'Fuel', 'Make', 'Light_Duty']].value_counts().index[0]"
      ],
      "execution_count": 25,
      "outputs": [
        {
          "output_type": "execute_result",
          "data": {
            "text/plain": [
              "('7/4/2019', '90003', '2009', 'Gasoline', 'Type_L', 'Yes')"
            ]
          },
          "metadata": {
            "tags": []
          },
          "execution_count": 25
        }
      ]
    },
    {
      "cell_type": "code",
      "metadata": {
        "colab": {
          "base_uri": "https://localhost:8080/",
          "height": 419
        },
        "id": "LAAxb0P2PLbB",
        "outputId": "d4366973-5275-48d2-ec55-71a9598cccf8"
      },
      "source": [
        "# agora aplicamos o .apply usando o fillna() com o valor: .value_counts().index[0]\r\n",
        "df[[ 'Date', 'Zip Code', 'Model Year', 'Fuel', 'Make', 'Light_Duty']].apply(lambda col: col.fillna(col.value_counts().index[0]) )"
      ],
      "execution_count": 26,
      "outputs": [
        {
          "output_type": "execute_result",
          "data": {
            "text/html": [
              "<div>\n",
              "<style scoped>\n",
              "    .dataframe tbody tr th:only-of-type {\n",
              "        vertical-align: middle;\n",
              "    }\n",
              "\n",
              "    .dataframe tbody tr th {\n",
              "        vertical-align: top;\n",
              "    }\n",
              "\n",
              "    .dataframe thead th {\n",
              "        text-align: right;\n",
              "    }\n",
              "</style>\n",
              "<table border=\"1\" class=\"dataframe\">\n",
              "  <thead>\n",
              "    <tr style=\"text-align: right;\">\n",
              "      <th></th>\n",
              "      <th>Date</th>\n",
              "      <th>Zip Code</th>\n",
              "      <th>Model Year</th>\n",
              "      <th>Fuel</th>\n",
              "      <th>Make</th>\n",
              "      <th>Light_Duty</th>\n",
              "    </tr>\n",
              "  </thead>\n",
              "  <tbody>\n",
              "    <tr>\n",
              "      <th>0</th>\n",
              "      <td>10/1/2018</td>\n",
              "      <td>90000</td>\n",
              "      <td>2006</td>\n",
              "      <td>Gasoline</td>\n",
              "      <td>OTHER/UNK</td>\n",
              "      <td>Yes</td>\n",
              "    </tr>\n",
              "    <tr>\n",
              "      <th>1</th>\n",
              "      <td>10/1/2018</td>\n",
              "      <td>90002</td>\n",
              "      <td>2014</td>\n",
              "      <td>Gasoline</td>\n",
              "      <td>OTHER/UNK</td>\n",
              "      <td>Yes</td>\n",
              "    </tr>\n",
              "    <tr>\n",
              "      <th>2</th>\n",
              "      <td>10/1/2018</td>\n",
              "      <td>90000</td>\n",
              "      <td>&lt;2006</td>\n",
              "      <td>Gasoline</td>\n",
              "      <td>OTHER/UNK</td>\n",
              "      <td>Yes</td>\n",
              "    </tr>\n",
              "    <tr>\n",
              "      <th>3</th>\n",
              "      <td>10/1/2018</td>\n",
              "      <td>90000</td>\n",
              "      <td>2017</td>\n",
              "      <td>Gasoline</td>\n",
              "      <td>OTHER/UNK</td>\n",
              "      <td>Yes</td>\n",
              "    </tr>\n",
              "    <tr>\n",
              "      <th>4</th>\n",
              "      <td>10/1/2018</td>\n",
              "      <td>90000</td>\n",
              "      <td>&lt;2006</td>\n",
              "      <td>Diesel and Diesel Hybrid</td>\n",
              "      <td>OTHER/UNK</td>\n",
              "      <td>No</td>\n",
              "    </tr>\n",
              "    <tr>\n",
              "      <th>...</th>\n",
              "      <td>...</td>\n",
              "      <td>...</td>\n",
              "      <td>...</td>\n",
              "      <td>...</td>\n",
              "      <td>...</td>\n",
              "      <td>...</td>\n",
              "    </tr>\n",
              "    <tr>\n",
              "      <th>994</th>\n",
              "      <td>6/7/2019</td>\n",
              "      <td>90003</td>\n",
              "      <td>2012</td>\n",
              "      <td>Gasoline</td>\n",
              "      <td>Type_R</td>\n",
              "      <td>Yes</td>\n",
              "    </tr>\n",
              "    <tr>\n",
              "      <th>995</th>\n",
              "      <td>6/8/2019</td>\n",
              "      <td>90003</td>\n",
              "      <td>2012</td>\n",
              "      <td>Hybrid Gasoline</td>\n",
              "      <td>OTHER/UNK</td>\n",
              "      <td>Yes</td>\n",
              "    </tr>\n",
              "    <tr>\n",
              "      <th>996</th>\n",
              "      <td>6/9/2019</td>\n",
              "      <td>90003</td>\n",
              "      <td>2012</td>\n",
              "      <td>Hybrid Gasoline</td>\n",
              "      <td>Type_Q</td>\n",
              "      <td>Yes</td>\n",
              "    </tr>\n",
              "    <tr>\n",
              "      <th>997</th>\n",
              "      <td>6/10/2019</td>\n",
              "      <td>90003</td>\n",
              "      <td>2012</td>\n",
              "      <td>Natural Gas</td>\n",
              "      <td>OTHER/UNK</td>\n",
              "      <td>Yes</td>\n",
              "    </tr>\n",
              "    <tr>\n",
              "      <th>998</th>\n",
              "      <td>6/11/2019</td>\n",
              "      <td>90003</td>\n",
              "      <td>2012</td>\n",
              "      <td>Plug-in Hybrid</td>\n",
              "      <td>OTHER/UNK</td>\n",
              "      <td>Yes</td>\n",
              "    </tr>\n",
              "  </tbody>\n",
              "</table>\n",
              "<p>999 rows × 6 columns</p>\n",
              "</div>"
            ],
            "text/plain": [
              "          Date Zip Code  ...       Make Light_Duty\n",
              "0    10/1/2018    90000  ...  OTHER/UNK        Yes\n",
              "1    10/1/2018    90002  ...  OTHER/UNK        Yes\n",
              "2    10/1/2018    90000  ...  OTHER/UNK        Yes\n",
              "3    10/1/2018    90000  ...  OTHER/UNK        Yes\n",
              "4    10/1/2018    90000  ...  OTHER/UNK         No\n",
              "..         ...      ...  ...        ...        ...\n",
              "994   6/7/2019    90003  ...     Type_R        Yes\n",
              "995   6/8/2019    90003  ...  OTHER/UNK        Yes\n",
              "996   6/9/2019    90003  ...     Type_Q        Yes\n",
              "997  6/10/2019    90003  ...  OTHER/UNK        Yes\n",
              "998  6/11/2019    90003  ...  OTHER/UNK        Yes\n",
              "\n",
              "[999 rows x 6 columns]"
            ]
          },
          "metadata": {
            "tags": []
          },
          "execution_count": 26
        }
      ]
    },
    {
      "cell_type": "code",
      "metadata": {
        "id": "bLldsmbSPgGL"
      },
      "source": [
        "# Podemos agora atribuir ao dataframe\r\n",
        "df[[ 'Date', 'Zip Code', 'Model Year', 'Fuel', 'Make', 'Light_Duty']] = df[[ 'Date', 'Zip Code', 'Model Year', 'Fuel', 'Make', 'Light_Duty']].apply(lambda col: col.fillna(col.value_counts().index[0]) )"
      ],
      "execution_count": 63,
      "outputs": []
    },
    {
      "cell_type": "code",
      "metadata": {
        "colab": {
          "base_uri": "https://localhost:8080/",
          "height": 204
        },
        "id": "u3xab1Xit-RQ",
        "outputId": "e93b7fdc-b233-46d1-a117-0a8c3c93a42d"
      },
      "source": [
        "# Verificar as 5 primeiras linhas do dataframe\n",
        "df.head()"
      ],
      "execution_count": 65,
      "outputs": [
        {
          "output_type": "execute_result",
          "data": {
            "text/html": [
              "<div>\n",
              "<style scoped>\n",
              "    .dataframe tbody tr th:only-of-type {\n",
              "        vertical-align: middle;\n",
              "    }\n",
              "\n",
              "    .dataframe tbody tr th {\n",
              "        vertical-align: top;\n",
              "    }\n",
              "\n",
              "    .dataframe thead th {\n",
              "        text-align: right;\n",
              "    }\n",
              "</style>\n",
              "<table border=\"1\" class=\"dataframe\">\n",
              "  <thead>\n",
              "    <tr style=\"text-align: right;\">\n",
              "      <th></th>\n",
              "      <th>Date</th>\n",
              "      <th>Zip Code</th>\n",
              "      <th>Model Year</th>\n",
              "      <th>Fuel</th>\n",
              "      <th>Make</th>\n",
              "      <th>Light_Duty</th>\n",
              "      <th>Vehicles</th>\n",
              "      <th>meanprice</th>\n",
              "    </tr>\n",
              "  </thead>\n",
              "  <tbody>\n",
              "    <tr>\n",
              "      <th>0</th>\n",
              "      <td>10/1/2018</td>\n",
              "      <td>90000</td>\n",
              "      <td>2006</td>\n",
              "      <td>Gasoline</td>\n",
              "      <td>OTHER/UNK</td>\n",
              "      <td>Yes</td>\n",
              "      <td>1.0</td>\n",
              "      <td>40726.47</td>\n",
              "    </tr>\n",
              "    <tr>\n",
              "      <th>1</th>\n",
              "      <td>10/1/2018</td>\n",
              "      <td>90002</td>\n",
              "      <td>2014</td>\n",
              "      <td>Gasoline</td>\n",
              "      <td>OTHER/UNK</td>\n",
              "      <td>Yes</td>\n",
              "      <td>1.0</td>\n",
              "      <td>14600.61</td>\n",
              "    </tr>\n",
              "    <tr>\n",
              "      <th>2</th>\n",
              "      <td>10/1/2018</td>\n",
              "      <td>90000</td>\n",
              "      <td>&lt;2006</td>\n",
              "      <td>Gasoline</td>\n",
              "      <td>OTHER/UNK</td>\n",
              "      <td>Yes</td>\n",
              "      <td>NaN</td>\n",
              "      <td>10665.31</td>\n",
              "    </tr>\n",
              "    <tr>\n",
              "      <th>3</th>\n",
              "      <td>10/1/2018</td>\n",
              "      <td>90000</td>\n",
              "      <td>2017</td>\n",
              "      <td>Gasoline</td>\n",
              "      <td>OTHER/UNK</td>\n",
              "      <td>Yes</td>\n",
              "      <td>1.0</td>\n",
              "      <td>31920.35</td>\n",
              "    </tr>\n",
              "    <tr>\n",
              "      <th>4</th>\n",
              "      <td>10/1/2018</td>\n",
              "      <td>90000</td>\n",
              "      <td>&lt;2006</td>\n",
              "      <td>Diesel and Diesel Hybrid</td>\n",
              "      <td>OTHER/UNK</td>\n",
              "      <td>No</td>\n",
              "      <td>55.0</td>\n",
              "      <td>27268.07</td>\n",
              "    </tr>\n",
              "  </tbody>\n",
              "</table>\n",
              "</div>"
            ],
            "text/plain": [
              "        Date Zip Code Model Year  ... Light_Duty Vehicles meanprice\n",
              "0  10/1/2018    90000       2006  ...        Yes      1.0  40726.47\n",
              "1  10/1/2018    90002       2014  ...        Yes      1.0  14600.61\n",
              "2  10/1/2018    90000      <2006  ...        Yes      NaN  10665.31\n",
              "3  10/1/2018    90000       2017  ...        Yes      1.0  31920.35\n",
              "4  10/1/2018    90000      <2006  ...         No     55.0  27268.07\n",
              "\n",
              "[5 rows x 8 columns]"
            ]
          },
          "metadata": {
            "tags": []
          },
          "execution_count": 65
        }
      ]
    },
    {
      "cell_type": "markdown",
      "metadata": {
        "id": "YBs5RBQHQHIE"
      },
      "source": [
        "Agora, falta somente preenchermos a coluna Vehicles, que é numérica contínua e para isso, vamos usar a média.\r\n",
        "\r\n",
        "Como é uma coluna só, usamos .fillna() e passamos o primeiro parâmetro com a média dessa coluna:"
      ]
    },
    {
      "cell_type": "code",
      "metadata": {
        "id": "pvM09YmFQVuY"
      },
      "source": [
        "df['Vehicles'] = df['Vehicles'].fillna(df['Vehicles'].mean())"
      ],
      "execution_count": 66,
      "outputs": []
    },
    {
      "cell_type": "code",
      "metadata": {
        "colab": {
          "base_uri": "https://localhost:8080/",
          "height": 204
        },
        "id": "G-pltQdnHEzG",
        "outputId": "2b240586-6537-4fee-e3b5-3928c4aa57d3"
      },
      "source": [
        "df.head()"
      ],
      "execution_count": 69,
      "outputs": [
        {
          "output_type": "execute_result",
          "data": {
            "text/html": [
              "<div>\n",
              "<style scoped>\n",
              "    .dataframe tbody tr th:only-of-type {\n",
              "        vertical-align: middle;\n",
              "    }\n",
              "\n",
              "    .dataframe tbody tr th {\n",
              "        vertical-align: top;\n",
              "    }\n",
              "\n",
              "    .dataframe thead th {\n",
              "        text-align: right;\n",
              "    }\n",
              "</style>\n",
              "<table border=\"1\" class=\"dataframe\">\n",
              "  <thead>\n",
              "    <tr style=\"text-align: right;\">\n",
              "      <th></th>\n",
              "      <th>Date</th>\n",
              "      <th>Zip Code</th>\n",
              "      <th>Model Year</th>\n",
              "      <th>Fuel</th>\n",
              "      <th>Make</th>\n",
              "      <th>Light_Duty</th>\n",
              "      <th>Vehicles</th>\n",
              "      <th>meanprice</th>\n",
              "    </tr>\n",
              "  </thead>\n",
              "  <tbody>\n",
              "    <tr>\n",
              "      <th>0</th>\n",
              "      <td>10/1/2018</td>\n",
              "      <td>90000</td>\n",
              "      <td>2006</td>\n",
              "      <td>Gasoline</td>\n",
              "      <td>OTHER/UNK</td>\n",
              "      <td>Yes</td>\n",
              "      <td>1.000000</td>\n",
              "      <td>40726.47</td>\n",
              "    </tr>\n",
              "    <tr>\n",
              "      <th>1</th>\n",
              "      <td>10/1/2018</td>\n",
              "      <td>90002</td>\n",
              "      <td>2014</td>\n",
              "      <td>Gasoline</td>\n",
              "      <td>OTHER/UNK</td>\n",
              "      <td>Yes</td>\n",
              "      <td>1.000000</td>\n",
              "      <td>14600.61</td>\n",
              "    </tr>\n",
              "    <tr>\n",
              "      <th>2</th>\n",
              "      <td>10/1/2018</td>\n",
              "      <td>90000</td>\n",
              "      <td>&lt;2006</td>\n",
              "      <td>Gasoline</td>\n",
              "      <td>OTHER/UNK</td>\n",
              "      <td>Yes</td>\n",
              "      <td>72.878514</td>\n",
              "      <td>10665.31</td>\n",
              "    </tr>\n",
              "    <tr>\n",
              "      <th>3</th>\n",
              "      <td>10/1/2018</td>\n",
              "      <td>90000</td>\n",
              "      <td>2017</td>\n",
              "      <td>Gasoline</td>\n",
              "      <td>OTHER/UNK</td>\n",
              "      <td>Yes</td>\n",
              "      <td>1.000000</td>\n",
              "      <td>31920.35</td>\n",
              "    </tr>\n",
              "    <tr>\n",
              "      <th>4</th>\n",
              "      <td>10/1/2018</td>\n",
              "      <td>90000</td>\n",
              "      <td>&lt;2006</td>\n",
              "      <td>Diesel and Diesel Hybrid</td>\n",
              "      <td>OTHER/UNK</td>\n",
              "      <td>No</td>\n",
              "      <td>55.000000</td>\n",
              "      <td>27268.07</td>\n",
              "    </tr>\n",
              "  </tbody>\n",
              "</table>\n",
              "</div>"
            ],
            "text/plain": [
              "        Date Zip Code Model Year  ... Light_Duty   Vehicles meanprice\n",
              "0  10/1/2018    90000       2006  ...        Yes   1.000000  40726.47\n",
              "1  10/1/2018    90002       2014  ...        Yes   1.000000  14600.61\n",
              "2  10/1/2018    90000      <2006  ...        Yes  72.878514  10665.31\n",
              "3  10/1/2018    90000       2017  ...        Yes   1.000000  31920.35\n",
              "4  10/1/2018    90000      <2006  ...         No  55.000000  27268.07\n",
              "\n",
              "[5 rows x 8 columns]"
            ]
          },
          "metadata": {
            "tags": []
          },
          "execution_count": 69
        }
      ]
    },
    {
      "cell_type": "markdown",
      "metadata": {
        "id": "SSrSzS7w9eDt"
      },
      "source": [
        "Vamos verificar novamente por valores ausentes:"
      ]
    },
    {
      "cell_type": "code",
      "metadata": {
        "colab": {
          "base_uri": "https://localhost:8080/"
        },
        "id": "_wqUmyBz9eDt",
        "outputId": "40df3408-5e65-4d0f-ff18-c6285265eec7"
      },
      "source": [
        "df.isnull().sum()"
      ],
      "execution_count": 67,
      "outputs": [
        {
          "output_type": "execute_result",
          "data": {
            "text/plain": [
              "Date          0\n",
              "Zip Code      0\n",
              "Model Year    0\n",
              "Fuel          0\n",
              "Make          0\n",
              "Light_Duty    0\n",
              "Vehicles      0\n",
              "meanprice     0\n",
              "dtype: int64"
            ]
          },
          "metadata": {
            "tags": []
          },
          "execution_count": 67
        }
      ]
    },
    {
      "cell_type": "markdown",
      "metadata": {
        "id": "8SGmbe919eDu"
      },
      "source": [
        "#### Questão #2:  \n",
        "##### Converter a coluna Date para um formato Datetime.\n",
        "\n",
        "O formato passado é o da origem dos dados. Exemplos:\n",
        "- 25/02/2020 -> %d/%m/%Y\n",
        "- 31-03-1997 -> %d-%m-%Y\n",
        "- 03/31/2009 -> %m/%d/%Y"
      ]
    },
    {
      "cell_type": "code",
      "metadata": {
        "id": "JMFoXqrX9eDu"
      },
      "source": [
        "# Converter a coluna Date para um datetime .to_datetime\n",
        "# usando o formato %m%d%Y\n",
        "df['Date'] = pd.to_datetime(df['Date'], format='%m/%d/%Y')"
      ],
      "execution_count": 73,
      "outputs": []
    },
    {
      "cell_type": "code",
      "metadata": {
        "colab": {
          "base_uri": "https://localhost:8080/"
        },
        "id": "oWcAftzE9eDv",
        "outputId": "ebe4a9af-0024-4f57-e924-f1288eef846e"
      },
      "source": [
        "# Usar .info() para ver a transformação\n",
        "df.info()"
      ],
      "execution_count": 74,
      "outputs": [
        {
          "output_type": "stream",
          "text": [
            "<class 'pandas.core.frame.DataFrame'>\n",
            "RangeIndex: 999 entries, 0 to 998\n",
            "Data columns (total 8 columns):\n",
            " #   Column      Non-Null Count  Dtype         \n",
            "---  ------      --------------  -----         \n",
            " 0   Date        999 non-null    datetime64[ns]\n",
            " 1   Zip Code    999 non-null    object        \n",
            " 2   Model Year  999 non-null    object        \n",
            " 3   Fuel        999 non-null    object        \n",
            " 4   Make        999 non-null    object        \n",
            " 5   Light_Duty  999 non-null    object        \n",
            " 6   Vehicles    999 non-null    float64       \n",
            " 7   meanprice   999 non-null    float64       \n",
            "dtypes: datetime64[ns](1), float64(2), object(5)\n",
            "memory usage: 62.6+ KB\n"
          ],
          "name": "stdout"
        }
      ]
    },
    {
      "cell_type": "markdown",
      "metadata": {
        "id": "LiNa7e9lqgFC"
      },
      "source": [
        "Em alguns casos é interessante separar a data em colunas dia, mês e ano.\n",
        "\n",
        "Por exemplo, identificar padrões sazonais, encontrar períodos incomuns, etc.\n",
        "\n",
        "Assim como usamos funções de string, temos no pandas funções para string em `.dt`, como `dt.year`, `dt.month` e `dt.day`."
      ]
    },
    {
      "cell_type": "code",
      "metadata": {
        "colab": {
          "base_uri": "https://localhost:8080/"
        },
        "id": "eoqoHaJLqff3",
        "outputId": "4966f1d3-16d6-466b-a7ff-58b7ccb0aaf0"
      },
      "source": [
        "# Usar dt.year sobre a coluna data\n",
        "df['Date'].dt.year"
      ],
      "execution_count": 75,
      "outputs": [
        {
          "output_type": "execute_result",
          "data": {
            "text/plain": [
              "0      2018\n",
              "1      2018\n",
              "2      2018\n",
              "3      2018\n",
              "4      2018\n",
              "       ... \n",
              "994    2019\n",
              "995    2019\n",
              "996    2019\n",
              "997    2019\n",
              "998    2019\n",
              "Name: Date, Length: 999, dtype: int64"
            ]
          },
          "metadata": {
            "tags": []
          },
          "execution_count": 75
        }
      ]
    },
    {
      "cell_type": "code",
      "metadata": {
        "id": "YKMCRXMCqLdV"
      },
      "source": [
        "# Criar uma coluna year com o ano\n",
        "df['year'] = df['Date'].dt.year"
      ],
      "execution_count": 76,
      "outputs": []
    },
    {
      "cell_type": "code",
      "metadata": {
        "id": "eFttlOgZrcRo"
      },
      "source": [
        "# Criar uma coluna month com o mês\n",
        "df['month'] = df['Date'].dt.month"
      ],
      "execution_count": 77,
      "outputs": []
    },
    {
      "cell_type": "code",
      "metadata": {
        "id": "g500GMFXrhth"
      },
      "source": [
        "# Criar uma coluna day com o dia\n",
        "df['day'] = df['Date'].dt.day"
      ],
      "execution_count": 78,
      "outputs": []
    },
    {
      "cell_type": "code",
      "metadata": {
        "colab": {
          "base_uri": "https://localhost:8080/",
          "height": 204
        },
        "id": "1F3Y0UYprn9-",
        "outputId": "600e83e1-17d9-4d48-a403-5f13682b0181"
      },
      "source": [
        "# Verificar as colunas criadas olhando as 5 primeiras linhas\n",
        "df.head()"
      ],
      "execution_count": 79,
      "outputs": [
        {
          "output_type": "execute_result",
          "data": {
            "text/html": [
              "<div>\n",
              "<style scoped>\n",
              "    .dataframe tbody tr th:only-of-type {\n",
              "        vertical-align: middle;\n",
              "    }\n",
              "\n",
              "    .dataframe tbody tr th {\n",
              "        vertical-align: top;\n",
              "    }\n",
              "\n",
              "    .dataframe thead th {\n",
              "        text-align: right;\n",
              "    }\n",
              "</style>\n",
              "<table border=\"1\" class=\"dataframe\">\n",
              "  <thead>\n",
              "    <tr style=\"text-align: right;\">\n",
              "      <th></th>\n",
              "      <th>Date</th>\n",
              "      <th>Zip Code</th>\n",
              "      <th>Model Year</th>\n",
              "      <th>Fuel</th>\n",
              "      <th>Make</th>\n",
              "      <th>Light_Duty</th>\n",
              "      <th>Vehicles</th>\n",
              "      <th>meanprice</th>\n",
              "      <th>year</th>\n",
              "      <th>month</th>\n",
              "      <th>day</th>\n",
              "    </tr>\n",
              "  </thead>\n",
              "  <tbody>\n",
              "    <tr>\n",
              "      <th>0</th>\n",
              "      <td>2018-10-01</td>\n",
              "      <td>90000</td>\n",
              "      <td>2006</td>\n",
              "      <td>Gasoline</td>\n",
              "      <td>OTHER/UNK</td>\n",
              "      <td>Yes</td>\n",
              "      <td>1.000000</td>\n",
              "      <td>40726.47</td>\n",
              "      <td>2018</td>\n",
              "      <td>10</td>\n",
              "      <td>1</td>\n",
              "    </tr>\n",
              "    <tr>\n",
              "      <th>1</th>\n",
              "      <td>2018-10-01</td>\n",
              "      <td>90002</td>\n",
              "      <td>2014</td>\n",
              "      <td>Gasoline</td>\n",
              "      <td>OTHER/UNK</td>\n",
              "      <td>Yes</td>\n",
              "      <td>1.000000</td>\n",
              "      <td>14600.61</td>\n",
              "      <td>2018</td>\n",
              "      <td>10</td>\n",
              "      <td>1</td>\n",
              "    </tr>\n",
              "    <tr>\n",
              "      <th>2</th>\n",
              "      <td>2018-10-01</td>\n",
              "      <td>90000</td>\n",
              "      <td>&lt;2006</td>\n",
              "      <td>Gasoline</td>\n",
              "      <td>OTHER/UNK</td>\n",
              "      <td>Yes</td>\n",
              "      <td>72.878514</td>\n",
              "      <td>10665.31</td>\n",
              "      <td>2018</td>\n",
              "      <td>10</td>\n",
              "      <td>1</td>\n",
              "    </tr>\n",
              "    <tr>\n",
              "      <th>3</th>\n",
              "      <td>2018-10-01</td>\n",
              "      <td>90000</td>\n",
              "      <td>2017</td>\n",
              "      <td>Gasoline</td>\n",
              "      <td>OTHER/UNK</td>\n",
              "      <td>Yes</td>\n",
              "      <td>1.000000</td>\n",
              "      <td>31920.35</td>\n",
              "      <td>2018</td>\n",
              "      <td>10</td>\n",
              "      <td>1</td>\n",
              "    </tr>\n",
              "    <tr>\n",
              "      <th>4</th>\n",
              "      <td>2018-10-01</td>\n",
              "      <td>90000</td>\n",
              "      <td>&lt;2006</td>\n",
              "      <td>Diesel and Diesel Hybrid</td>\n",
              "      <td>OTHER/UNK</td>\n",
              "      <td>No</td>\n",
              "      <td>55.000000</td>\n",
              "      <td>27268.07</td>\n",
              "      <td>2018</td>\n",
              "      <td>10</td>\n",
              "      <td>1</td>\n",
              "    </tr>\n",
              "  </tbody>\n",
              "</table>\n",
              "</div>"
            ],
            "text/plain": [
              "        Date Zip Code Model Year  ...  year month day\n",
              "0 2018-10-01    90000       2006  ...  2018    10   1\n",
              "1 2018-10-01    90002       2014  ...  2018    10   1\n",
              "2 2018-10-01    90000      <2006  ...  2018    10   1\n",
              "3 2018-10-01    90000       2017  ...  2018    10   1\n",
              "4 2018-10-01    90000      <2006  ...  2018    10   1\n",
              "\n",
              "[5 rows x 11 columns]"
            ]
          },
          "metadata": {
            "tags": []
          },
          "execution_count": 79
        }
      ]
    },
    {
      "cell_type": "markdown",
      "metadata": {
        "id": "hvzH5G58r5rP"
      },
      "source": [
        "As vezes, queremos agrupar os dados para ter outra forma de analisar os dados, ou para entendermos em outro nível de detalhe.\n",
        "\n",
        "A pandas tem um método `groupby`, que funciona bastante parecido com o SQL."
      ]
    },
    {
      "cell_type": "code",
      "metadata": {
        "colab": {
          "base_uri": "https://localhost:8080/"
        },
        "id": "TBNK3rgvr2oo",
        "outputId": "84eff900-4a1f-4d4d-a4d2-662f4139c25b"
      },
      "source": [
        "# Agrupar por ano\n",
        "df.groupby(by ='year')"
      ],
      "execution_count": 80,
      "outputs": [
        {
          "output_type": "execute_result",
          "data": {
            "text/plain": [
              "<pandas.core.groupby.generic.DataFrameGroupBy object at 0x7f6f75dd3350>"
            ]
          },
          "metadata": {
            "tags": []
          },
          "execution_count": 80
        }
      ]
    },
    {
      "cell_type": "markdown",
      "metadata": {
        "id": "VkvLeWsQsi1m"
      },
      "source": [
        "Com o objeto de groupby criado, aplicamos algumas função de agregação, como first(), last(), sum(), etc."
      ]
    },
    {
      "cell_type": "code",
      "metadata": {
        "colab": {
          "base_uri": "https://localhost:8080/",
          "height": 142
        },
        "id": "BkAAbestsdoH",
        "outputId": "33cc5768-a369-427f-82ef-cbb81383933a"
      },
      "source": [
        "# Aplicar first no groupby\n",
        "df.groupby(by ='year').first()"
      ],
      "execution_count": 81,
      "outputs": [
        {
          "output_type": "execute_result",
          "data": {
            "text/html": [
              "<div>\n",
              "<style scoped>\n",
              "    .dataframe tbody tr th:only-of-type {\n",
              "        vertical-align: middle;\n",
              "    }\n",
              "\n",
              "    .dataframe tbody tr th {\n",
              "        vertical-align: top;\n",
              "    }\n",
              "\n",
              "    .dataframe thead th {\n",
              "        text-align: right;\n",
              "    }\n",
              "</style>\n",
              "<table border=\"1\" class=\"dataframe\">\n",
              "  <thead>\n",
              "    <tr style=\"text-align: right;\">\n",
              "      <th></th>\n",
              "      <th>Date</th>\n",
              "      <th>Zip Code</th>\n",
              "      <th>Model Year</th>\n",
              "      <th>Fuel</th>\n",
              "      <th>Make</th>\n",
              "      <th>Light_Duty</th>\n",
              "      <th>Vehicles</th>\n",
              "      <th>meanprice</th>\n",
              "      <th>month</th>\n",
              "      <th>day</th>\n",
              "    </tr>\n",
              "    <tr>\n",
              "      <th>year</th>\n",
              "      <th></th>\n",
              "      <th></th>\n",
              "      <th></th>\n",
              "      <th></th>\n",
              "      <th></th>\n",
              "      <th></th>\n",
              "      <th></th>\n",
              "      <th></th>\n",
              "      <th></th>\n",
              "      <th></th>\n",
              "    </tr>\n",
              "  </thead>\n",
              "  <tbody>\n",
              "    <tr>\n",
              "      <th>2018</th>\n",
              "      <td>2018-10-01</td>\n",
              "      <td>90000</td>\n",
              "      <td>2006</td>\n",
              "      <td>Gasoline</td>\n",
              "      <td>OTHER/UNK</td>\n",
              "      <td>Yes</td>\n",
              "      <td>1.0</td>\n",
              "      <td>40726.47</td>\n",
              "      <td>10</td>\n",
              "      <td>1</td>\n",
              "    </tr>\n",
              "    <tr>\n",
              "      <th>2019</th>\n",
              "      <td>2019-01-01</td>\n",
              "      <td>90001</td>\n",
              "      <td>2016</td>\n",
              "      <td>Gasoline</td>\n",
              "      <td>Type_G</td>\n",
              "      <td>Yes</td>\n",
              "      <td>18.0</td>\n",
              "      <td>37290.49</td>\n",
              "      <td>1</td>\n",
              "      <td>1</td>\n",
              "    </tr>\n",
              "  </tbody>\n",
              "</table>\n",
              "</div>"
            ],
            "text/plain": [
              "           Date Zip Code Model Year      Fuel  ... Vehicles meanprice  month  day\n",
              "year                                           ...                               \n",
              "2018 2018-10-01    90000       2006  Gasoline  ...      1.0  40726.47     10    1\n",
              "2019 2019-01-01    90001       2016  Gasoline  ...     18.0  37290.49      1    1\n",
              "\n",
              "[2 rows x 10 columns]"
            ]
          },
          "metadata": {
            "tags": []
          },
          "execution_count": 81
        }
      ]
    },
    {
      "cell_type": "code",
      "metadata": {
        "colab": {
          "base_uri": "https://localhost:8080/",
          "height": 142
        },
        "id": "uq2Vec3jsxZu",
        "outputId": "7b720950-dc41-4c93-c538-14c0f29b00e4"
      },
      "source": [
        "# Aplicar last no groupby\n",
        "df.groupby(by ='year').last()"
      ],
      "execution_count": 82,
      "outputs": [
        {
          "output_type": "execute_result",
          "data": {
            "text/html": [
              "<div>\n",
              "<style scoped>\n",
              "    .dataframe tbody tr th:only-of-type {\n",
              "        vertical-align: middle;\n",
              "    }\n",
              "\n",
              "    .dataframe tbody tr th {\n",
              "        vertical-align: top;\n",
              "    }\n",
              "\n",
              "    .dataframe thead th {\n",
              "        text-align: right;\n",
              "    }\n",
              "</style>\n",
              "<table border=\"1\" class=\"dataframe\">\n",
              "  <thead>\n",
              "    <tr style=\"text-align: right;\">\n",
              "      <th></th>\n",
              "      <th>Date</th>\n",
              "      <th>Zip Code</th>\n",
              "      <th>Model Year</th>\n",
              "      <th>Fuel</th>\n",
              "      <th>Make</th>\n",
              "      <th>Light_Duty</th>\n",
              "      <th>Vehicles</th>\n",
              "      <th>meanprice</th>\n",
              "      <th>month</th>\n",
              "      <th>day</th>\n",
              "    </tr>\n",
              "    <tr>\n",
              "      <th>year</th>\n",
              "      <th></th>\n",
              "      <th></th>\n",
              "      <th></th>\n",
              "      <th></th>\n",
              "      <th></th>\n",
              "      <th></th>\n",
              "      <th></th>\n",
              "      <th></th>\n",
              "      <th></th>\n",
              "      <th></th>\n",
              "    </tr>\n",
              "  </thead>\n",
              "  <tbody>\n",
              "    <tr>\n",
              "      <th>2018</th>\n",
              "      <td>2018-12-31</td>\n",
              "      <td>90002</td>\n",
              "      <td>2018</td>\n",
              "      <td>Hybrid Gasoline</td>\n",
              "      <td>OTHER/UNK</td>\n",
              "      <td>Yes</td>\n",
              "      <td>8.0</td>\n",
              "      <td>43135.62</td>\n",
              "      <td>12</td>\n",
              "      <td>31</td>\n",
              "    </tr>\n",
              "    <tr>\n",
              "      <th>2019</th>\n",
              "      <td>2019-06-11</td>\n",
              "      <td>90003</td>\n",
              "      <td>2012</td>\n",
              "      <td>Plug-in Hybrid</td>\n",
              "      <td>OTHER/UNK</td>\n",
              "      <td>Yes</td>\n",
              "      <td>3.0</td>\n",
              "      <td>15652.22</td>\n",
              "      <td>6</td>\n",
              "      <td>11</td>\n",
              "    </tr>\n",
              "  </tbody>\n",
              "</table>\n",
              "</div>"
            ],
            "text/plain": [
              "           Date Zip Code Model Year  ... meanprice month day\n",
              "year                                 ...                    \n",
              "2018 2018-12-31    90002       2018  ...  43135.62    12  31\n",
              "2019 2019-06-11    90003       2012  ...  15652.22     6  11\n",
              "\n",
              "[2 rows x 10 columns]"
            ]
          },
          "metadata": {
            "tags": []
          },
          "execution_count": 82
        }
      ]
    },
    {
      "cell_type": "code",
      "metadata": {
        "colab": {
          "base_uri": "https://localhost:8080/",
          "height": 142
        },
        "id": "8LLb6Q5QuxoV",
        "outputId": "0bc2e8cb-7099-4d15-a289-e19d827bf56b"
      },
      "source": [
        "# Aplicar sum no groupby\n",
        "df.groupby(by ='year').sum()"
      ],
      "execution_count": 83,
      "outputs": [
        {
          "output_type": "execute_result",
          "data": {
            "text/html": [
              "<div>\n",
              "<style scoped>\n",
              "    .dataframe tbody tr th:only-of-type {\n",
              "        vertical-align: middle;\n",
              "    }\n",
              "\n",
              "    .dataframe tbody tr th {\n",
              "        vertical-align: top;\n",
              "    }\n",
              "\n",
              "    .dataframe thead th {\n",
              "        text-align: right;\n",
              "    }\n",
              "</style>\n",
              "<table border=\"1\" class=\"dataframe\">\n",
              "  <thead>\n",
              "    <tr style=\"text-align: right;\">\n",
              "      <th></th>\n",
              "      <th>Vehicles</th>\n",
              "      <th>meanprice</th>\n",
              "      <th>month</th>\n",
              "      <th>day</th>\n",
              "    </tr>\n",
              "    <tr>\n",
              "      <th>year</th>\n",
              "      <th></th>\n",
              "      <th></th>\n",
              "      <th></th>\n",
              "      <th></th>\n",
              "    </tr>\n",
              "  </thead>\n",
              "  <tbody>\n",
              "    <tr>\n",
              "      <th>2018</th>\n",
              "      <td>16622.635542</td>\n",
              "      <td>11701618.42</td>\n",
              "      <td>4192</td>\n",
              "      <td>5968</td>\n",
              "    </tr>\n",
              "    <tr>\n",
              "      <th>2019</th>\n",
              "      <td>56183.000000</td>\n",
              "      <td>18580130.33</td>\n",
              "      <td>1634</td>\n",
              "      <td>9020</td>\n",
              "    </tr>\n",
              "  </tbody>\n",
              "</table>\n",
              "</div>"
            ],
            "text/plain": [
              "          Vehicles    meanprice  month   day\n",
              "year                                        \n",
              "2018  16622.635542  11701618.42   4192  5968\n",
              "2019  56183.000000  18580130.33   1634  9020"
            ]
          },
          "metadata": {
            "tags": []
          },
          "execution_count": 83
        }
      ]
    },
    {
      "cell_type": "code",
      "metadata": {
        "colab": {
          "base_uri": "https://localhost:8080/",
          "height": 142
        },
        "id": "K8SI2HuPu7l3",
        "outputId": "9459521c-162c-4a0d-f6c4-d475ff0a8953"
      },
      "source": [
        "# Aplicar mean no groupby\n",
        "df.groupby(by ='year').mean()"
      ],
      "execution_count": 84,
      "outputs": [
        {
          "output_type": "execute_result",
          "data": {
            "text/html": [
              "<div>\n",
              "<style scoped>\n",
              "    .dataframe tbody tr th:only-of-type {\n",
              "        vertical-align: middle;\n",
              "    }\n",
              "\n",
              "    .dataframe tbody tr th {\n",
              "        vertical-align: top;\n",
              "    }\n",
              "\n",
              "    .dataframe thead th {\n",
              "        text-align: right;\n",
              "    }\n",
              "</style>\n",
              "<table border=\"1\" class=\"dataframe\">\n",
              "  <thead>\n",
              "    <tr style=\"text-align: right;\">\n",
              "      <th></th>\n",
              "      <th>Vehicles</th>\n",
              "      <th>meanprice</th>\n",
              "      <th>month</th>\n",
              "      <th>day</th>\n",
              "    </tr>\n",
              "    <tr>\n",
              "      <th>year</th>\n",
              "      <th></th>\n",
              "      <th></th>\n",
              "      <th></th>\n",
              "      <th></th>\n",
              "    </tr>\n",
              "  </thead>\n",
              "  <tbody>\n",
              "    <tr>\n",
              "      <th>2018</th>\n",
              "      <td>43.514753</td>\n",
              "      <td>30632.508953</td>\n",
              "      <td>10.973822</td>\n",
              "      <td>15.623037</td>\n",
              "    </tr>\n",
              "    <tr>\n",
              "      <th>2019</th>\n",
              "      <td>91.058347</td>\n",
              "      <td>30113.663420</td>\n",
              "      <td>2.648298</td>\n",
              "      <td>14.619125</td>\n",
              "    </tr>\n",
              "  </tbody>\n",
              "</table>\n",
              "</div>"
            ],
            "text/plain": [
              "       Vehicles     meanprice      month        day\n",
              "year                                               \n",
              "2018  43.514753  30632.508953  10.973822  15.623037\n",
              "2019  91.058347  30113.663420   2.648298  14.619125"
            ]
          },
          "metadata": {
            "tags": []
          },
          "execution_count": 84
        }
      ]
    },
    {
      "cell_type": "markdown",
      "metadata": {
        "id": "rAhONW2-yTMg"
      },
      "source": [
        "#### Questão #3"
      ]
    },
    {
      "cell_type": "markdown",
      "metadata": {
        "id": "-DmIMdmIyZY_"
      },
      "source": [
        "Renomear as colunas de *features*, retirando espaços em branco e transformando letras maísculas em minúsculas."
      ]
    },
    {
      "cell_type": "code",
      "metadata": {
        "id": "cv6btD7hvBAt"
      },
      "source": [
        "# Usar rename (dicionário de valores) com inplace=True\n",
        "\n",
        "# Ver as duas primeiras linhas\n"
      ],
      "execution_count": 41,
      "outputs": []
    },
    {
      "cell_type": "markdown",
      "metadata": {
        "id": "XLgjHcNs0KoT"
      },
      "source": [
        "Agora, retirar os valores de ano que tenham '<2006'"
      ]
    },
    {
      "cell_type": "code",
      "metadata": {
        "id": "aWqIqHHxz1HW"
      },
      "source": [
        "# Selecionar os valores com string '<2006'\n"
      ],
      "execution_count": 42,
      "outputs": []
    },
    {
      "cell_type": "code",
      "metadata": {
        "id": "REj1jT3R0fvU"
      },
      "source": [
        "# Atribuir o resultado em df com .copy() \n",
        "# Quando alterar quantidade de linhas, usar .copy()\n"
      ],
      "execution_count": 43,
      "outputs": []
    },
    {
      "cell_type": "code",
      "metadata": {
        "id": "xW-BXjfG02ZY"
      },
      "source": [
        "# Usar o value_counts() para confirmar que o valor '<2006' foi removido\n"
      ],
      "execution_count": 44,
      "outputs": []
    },
    {
      "cell_type": "markdown",
      "metadata": {
        "id": "agKAY8C9-BFi"
      },
      "source": [
        "#### Questão #4"
      ]
    },
    {
      "cell_type": "markdown",
      "metadata": {
        "id": "ggSvIx6d-ISi"
      },
      "source": [
        "Converteremos os valores de meanprice para valores low, mid e high.\n",
        "\n",
        "Para isso iremos discretizar esses valores, conhecido como *binning* ou *bucketization*.\n",
        "\n",
        "A pandas contém o pd.cut para esse tipo de tarefa."
      ]
    },
    {
      "cell_type": "code",
      "metadata": {
        "id": "xSeBYir2-Hmk"
      },
      "source": [
        "# Usar pd.cut com a coluna df['meanprice'], bins=3 e labels=['low', 'mid', 'high']\n"
      ],
      "execution_count": 45,
      "outputs": []
    },
    {
      "cell_type": "code",
      "metadata": {
        "id": "JrdB0iYB-7HT"
      },
      "source": [
        "# Substituir a coluna df['meanprice'] com esses valores\n"
      ],
      "execution_count": 46,
      "outputs": []
    },
    {
      "cell_type": "markdown",
      "metadata": {
        "id": "oxk6TSZr1KCl"
      },
      "source": [
        "#### Questão #5"
      ]
    },
    {
      "cell_type": "markdown",
      "metadata": {
        "id": "OdV9EDZQ1RjB"
      },
      "source": [
        "**Manipulando colunas categóricas**\n",
        "\n",
        "A coluna lightduty é uma variável categórica com uma escolha yes/no. Não podemos carregar esse tipo de valores em um modelo de *machine learning*. Precisamos converter as respostas binárias de strings yes/no em inteiros 1/0. Existem vários métodos para fazer isso. Usaremos o método \"apply\" com uma expressão lambda.\n"
      ]
    },
    {
      "cell_type": "code",
      "metadata": {
        "id": "ZJDRBgS307t3"
      },
      "source": [
        "# Contar número de yes/no na coluna lightduty\n"
      ],
      "execution_count": 47,
      "outputs": []
    },
    {
      "cell_type": "code",
      "metadata": {
        "id": "fGydFygQ2DCg"
      },
      "source": [
        "# Aplicar uma função lambda que transforma Yes em 1 e No em 0\n"
      ],
      "execution_count": 48,
      "outputs": []
    },
    {
      "cell_type": "code",
      "metadata": {
        "id": "1HfgmFrO2OcZ"
      },
      "source": [
        "# Atribuir e verificar que os valores foram alterados\n"
      ],
      "execution_count": 49,
      "outputs": []
    },
    {
      "cell_type": "markdown",
      "metadata": {
        "id": "107qigZD2li9"
      },
      "source": [
        "**One-hot encoding**\n",
        "\n",
        "Algoritmos de *machine Learning* experam vetores de entrada e não variáveis categóricas. Especificamente, eles não pode manipular valores de texto ou de string. Então é frequentemente útil transformar *features* categóricas em vetores.\n",
        "\n",
        "Um método de transformação é criar variáveis dummy para nossas *features* categóricas. Variáveis Dummy são um conjunto de variáveis binárias (0 ou 1) em que cada uma representa uma única classe de uma *feature* categórica. Simplesmente codificamos a variável categórica como um vetor *one-hot*, isso é, um vetor onde todos os elementos são zero com exceção de 1, que é o *hot*. Com *one-hot encoding*, uma variável categórica se torna um array com amanho igual ao número de escolhas possíveis (número de categorias).\n",
        "\n",
        "A pandas oferece uma função chamada `get_dummies` para converter uma variável categória em variáveis dummy/indicadoras.\n",
        "\n",
        "Essa função recebe um parâmetro opcional que chama drop_first. Para algoritmos de machine learning esse parâmetro deve ser True, para evitar um problema matemático. Para outros usos, pode-se deixar esse parâmetro False (que é padrão)."
      ]
    },
    {
      "cell_type": "code",
      "metadata": {
        "id": "vdXPgH2D2dPm"
      },
      "source": [
        "# Usar pd.get_dummies em modelyear\n"
      ],
      "execution_count": 50,
      "outputs": []
    },
    {
      "cell_type": "code",
      "metadata": {
        "id": "l_4Amy0Y4MTe"
      },
      "source": [
        "# Usar pd.get_dummies em fuel\n"
      ],
      "execution_count": 51,
      "outputs": []
    },
    {
      "cell_type": "code",
      "metadata": {
        "id": "vMN8Isdz4QAV"
      },
      "source": [
        "# Usar pd.get_dummies em make\n"
      ],
      "execution_count": 52,
      "outputs": []
    },
    {
      "cell_type": "code",
      "metadata": {
        "id": "V9yl5THC42bW"
      },
      "source": [
        "# Usar pd.get_dummies em zipcode\n"
      ],
      "execution_count": 53,
      "outputs": []
    },
    {
      "cell_type": "code",
      "metadata": {
        "id": "EvvzLMSr_z1U"
      },
      "source": [
        "# Usar pd.get_dummies em meanprice\n"
      ],
      "execution_count": 54,
      "outputs": []
    },
    {
      "cell_type": "code",
      "metadata": {
        "id": "iuQAUfIw45o7"
      },
      "source": [
        "# Criar uma variável dados_dummy e aplicar o pd.get_dummies\n",
        "# nas colunas ['zipcode','modelyear', 'fuel', 'make', 'meanprice'].\n",
        "\n",
        "# Mostrar as 5 primeiras linhas dessa variável\n"
      ],
      "execution_count": 55,
      "outputs": []
    },
    {
      "cell_type": "code",
      "metadata": {
        "id": "yF-C-61m5ewg"
      },
      "source": [
        "# Concatenar pd.concat()  df com dados_dummy (axis=1)\n",
        "\n",
        "# Mostrar as 5 primeiras linhas\n"
      ],
      "execution_count": 56,
      "outputs": []
    },
    {
      "cell_type": "markdown",
      "metadata": {
        "id": "q-ibXRef5-lt"
      },
      "source": [
        "Como alteramos a representação das variáveis categóricas e de data, removemos a representação original."
      ]
    },
    {
      "cell_type": "code",
      "metadata": {
        "id": "fEEvbbfb5r3o"
      },
      "source": [
        "# Usar df.drop para remover ['date','zipcode','modelyear', 'fuel', 'make', 'meanprice']\n",
        "\n",
        "# Ver as 5 primeiras linhas\n"
      ],
      "execution_count": 57,
      "outputs": []
    },
    {
      "cell_type": "markdown",
      "metadata": {
        "id": "0ekV5JSCApi7"
      },
      "source": [
        "#### Questão #6.\n",
        "\n",
        "Alguns algortimos trabalham melhor com valores numéricos (referentes a quantidades) normalizados. Para isso, vamos normalizar a coluna vehicles."
      ]
    },
    {
      "cell_type": "code",
      "metadata": {
        "id": "Xj53j7OlB_z4"
      },
      "source": [
        "# Calcular a média de df['vehicles']\n"
      ],
      "execution_count": 58,
      "outputs": []
    },
    {
      "cell_type": "code",
      "metadata": {
        "id": "BBh7l9u1CR2_"
      },
      "source": [
        "# Subtrair cada valor pela média da coluna\n"
      ],
      "execution_count": 59,
      "outputs": []
    },
    {
      "cell_type": "code",
      "metadata": {
        "id": "eBSTB8cKCLWl"
      },
      "source": [
        "# Calcular o desvio padrão de df['vehicles']\n"
      ],
      "execution_count": 60,
      "outputs": []
    },
    {
      "cell_type": "code",
      "metadata": {
        "id": "bledUe6NCa9b"
      },
      "source": [
        "# Subtrair cada valor pela média da coluna e dividir pelo desvio padrão\n"
      ],
      "execution_count": 61,
      "outputs": []
    },
    {
      "cell_type": "code",
      "metadata": {
        "id": "J-QRHgM2Cjcr"
      },
      "source": [
        "# Atribuir na coluna o resultado da conta acima.\n",
        "\n",
        "# Ver as 5 primeiras linhas\n"
      ],
      "execution_count": 62,
      "outputs": []
    },
    {
      "cell_type": "markdown",
      "metadata": {
        "id": "KFWyh1S665KC"
      },
      "source": [
        "## Conclusão"
      ]
    },
    {
      "cell_type": "markdown",
      "metadata": {
        "id": "ApkK5OE-677-"
      },
      "source": [
        "Trabalhamos alguns conceitos pra melhorar a qualidade dos dados com o objetivo desses dados alimentarem algoritmos de machine learning*. Resolvemos:\n",
        "\n",
        "- Valores ausentes;\n",
        "- Convertemos tipos de dados para os corretos;\n",
        "- Renomeamos colunas de features;\n",
        "- Removemos um valor não desejável de features;\n",
        "- Transformamos uma variável contínua em categórica;\n",
        "- Criamos variáveis *one-hot encoding*;\n",
        "- Convertemos as features temporais para representações significativas;\n",
        "- Normalizamos uma variável numérica."
      ]
    }
  ]
}
